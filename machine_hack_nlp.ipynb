{
 "cells": [
  {
   "cell_type": "code",
   "execution_count": 26,
   "metadata": {},
   "outputs": [],
   "source": [
    "#this is an analysis about NLP, and we are going to take it step by step\n",
    "#lets start by importing basic EDA tools\n",
    "import numpy as np\n",
    "import pandas as pd\n",
    "import matplotlib.pyplot as plt\n",
    "%matplotlib inline\n",
    "from numpy import mean\n",
    "from numpy import std"
   ]
  },
  {
   "cell_type": "code",
   "execution_count": 27,
   "metadata": {},
   "outputs": [],
   "source": [
    "#ets bring in our data\n",
    "train_data=pd.read_csv('train.csv')\n",
    "test_data=pd.read_csv('test.csv')"
   ]
  },
  {
   "cell_type": "code",
   "execution_count": 3,
   "metadata": {},
   "outputs": [
    {
     "data": {
      "text/html": [
       "<div>\n",
       "<style scoped>\n",
       "    .dataframe tbody tr th:only-of-type {\n",
       "        vertical-align: middle;\n",
       "    }\n",
       "\n",
       "    .dataframe tbody tr th {\n",
       "        vertical-align: top;\n",
       "    }\n",
       "\n",
       "    .dataframe thead th {\n",
       "        text-align: right;\n",
       "    }\n",
       "</style>\n",
       "<table border=\"1\" class=\"dataframe\">\n",
       "  <thead>\n",
       "    <tr style=\"text-align: right;\">\n",
       "      <th></th>\n",
       "      <th>Brand</th>\n",
       "      <th>Model_Info</th>\n",
       "      <th>Additional_Description</th>\n",
       "      <th>Locality</th>\n",
       "      <th>City</th>\n",
       "      <th>State</th>\n",
       "      <th>Price</th>\n",
       "    </tr>\n",
       "  </thead>\n",
       "  <tbody>\n",
       "    <tr>\n",
       "      <th>0</th>\n",
       "      <td>1</td>\n",
       "      <td>name0 name234 64gb space grey</td>\n",
       "      <td>1yesr old mobile number 999two905two99 bill c...</td>\n",
       "      <td>878</td>\n",
       "      <td>8</td>\n",
       "      <td>2</td>\n",
       "      <td>15000</td>\n",
       "    </tr>\n",
       "    <tr>\n",
       "      <th>1</th>\n",
       "      <td>1</td>\n",
       "      <td>phone 7 name42 name453 new condition box acce...</td>\n",
       "      <td>101004800 1010065900 7000</td>\n",
       "      <td>1081</td>\n",
       "      <td>4</td>\n",
       "      <td>0</td>\n",
       "      <td>18800</td>\n",
       "    </tr>\n",
       "    <tr>\n",
       "      <th>2</th>\n",
       "      <td>1</td>\n",
       "      <td>name0 x 256gb leess used good condition</td>\n",
       "      <td>1010010000 seperate screen guard 3 back cover...</td>\n",
       "      <td>495</td>\n",
       "      <td>11</td>\n",
       "      <td>4</td>\n",
       "      <td>50000</td>\n",
       "    </tr>\n",
       "    <tr>\n",
       "      <th>3</th>\n",
       "      <td>1</td>\n",
       "      <td>name0 6s plus 64 gb space grey</td>\n",
       "      <td>without 1010020100 id 1010010300 colour 10100...</td>\n",
       "      <td>287</td>\n",
       "      <td>10</td>\n",
       "      <td>7</td>\n",
       "      <td>16500</td>\n",
       "    </tr>\n",
       "    <tr>\n",
       "      <th>4</th>\n",
       "      <td>1</td>\n",
       "      <td>phone 7 sealed pack brand new factory outet p...</td>\n",
       "      <td>101008700 10100000 xs max 64 gb made 10100850...</td>\n",
       "      <td>342</td>\n",
       "      <td>4</td>\n",
       "      <td>0</td>\n",
       "      <td>26499</td>\n",
       "    </tr>\n",
       "  </tbody>\n",
       "</table>\n",
       "</div>"
      ],
      "text/plain": [
       "   Brand                                         Model_Info  \\\n",
       "0      1                      name0 name234 64gb space grey   \n",
       "1      1   phone 7 name42 name453 new condition box acce...   \n",
       "2      1            name0 x 256gb leess used good condition   \n",
       "3      1                     name0 6s plus 64 gb space grey   \n",
       "4      1   phone 7 sealed pack brand new factory outet p...   \n",
       "\n",
       "                              Additional_Description  Locality  City  State  \\\n",
       "0   1yesr old mobile number 999two905two99 bill c...       878     8      2   \n",
       "1                          101004800 1010065900 7000      1081     4      0   \n",
       "2   1010010000 seperate screen guard 3 back cover...       495    11      4   \n",
       "3   without 1010020100 id 1010010300 colour 10100...       287    10      7   \n",
       "4   101008700 10100000 xs max 64 gb made 10100850...       342     4      0   \n",
       "\n",
       "   Price  \n",
       "0  15000  \n",
       "1  18800  \n",
       "2  50000  \n",
       "3  16500  \n",
       "4  26499  "
      ]
     },
     "execution_count": 3,
     "metadata": {},
     "output_type": "execute_result"
    }
   ],
   "source": [
    "train_data.head()"
   ]
  },
  {
   "cell_type": "code",
   "execution_count": 4,
   "metadata": {},
   "outputs": [
    {
     "data": {
      "text/plain": [
       "((2326, 7), (997, 6))"
      ]
     },
     "execution_count": 4,
     "metadata": {},
     "output_type": "execute_result"
    }
   ],
   "source": [
    "train_data.shape, test_data.shape"
   ]
  },
  {
   "cell_type": "code",
   "execution_count": 5,
   "metadata": {},
   "outputs": [
    {
     "data": {
      "text/plain": [
       "16"
      ]
     },
     "execution_count": 5,
     "metadata": {},
     "output_type": "execute_result"
    }
   ],
   "source": [
    "#since we are dealing with phones, we can agree that the property of phones that affect price is the memory\n",
    "train_data['City'].nunique()"
   ]
  },
  {
   "cell_type": "code",
   "execution_count": 6,
   "metadata": {},
   "outputs": [
    {
     "name": "stdout",
     "output_type": "stream",
     "text": [
      "<class 'pandas.core.frame.DataFrame'>\n",
      "RangeIndex: 2326 entries, 0 to 2325\n",
      "Data columns (total 7 columns):\n",
      " #   Column                  Non-Null Count  Dtype \n",
      "---  ------                  --------------  ----- \n",
      " 0   Brand                   2326 non-null   int64 \n",
      " 1   Model_Info              2326 non-null   object\n",
      " 2   Additional_Description  2326 non-null   object\n",
      " 3   Locality                2326 non-null   int64 \n",
      " 4   City                    2326 non-null   int64 \n",
      " 5   State                   2326 non-null   int64 \n",
      " 6   Price                   2326 non-null   int64 \n",
      "dtypes: int64(5), object(2)\n",
      "memory usage: 127.3+ KB\n"
     ]
    }
   ],
   "source": [
    "train_data.info()"
   ]
  },
  {
   "cell_type": "code",
   "execution_count": 7,
   "metadata": {},
   "outputs": [
    {
     "data": {
      "text/plain": [
       "4"
      ]
     },
     "execution_count": 7,
     "metadata": {},
     "output_type": "execute_result"
    }
   ],
   "source": [
    "train_data['Brand'].nunique()"
   ]
  },
  {
   "cell_type": "code",
   "execution_count": 8,
   "metadata": {},
   "outputs": [
    {
     "data": {
      "text/plain": [
       "9"
      ]
     },
     "execution_count": 8,
     "metadata": {},
     "output_type": "execute_result"
    }
   ],
   "source": [
    "train_data['State'].nunique()"
   ]
  },
  {
   "cell_type": "code",
   "execution_count": 9,
   "metadata": {},
   "outputs": [
    {
     "data": {
      "text/plain": [
       "16"
      ]
     },
     "execution_count": 9,
     "metadata": {},
     "output_type": "execute_result"
    }
   ],
   "source": [
    "train_data['City'].nunique()"
   ]
  },
  {
   "cell_type": "code",
   "execution_count": 10,
   "metadata": {},
   "outputs": [
    {
     "data": {
      "text/plain": [
       "970"
      ]
     },
     "execution_count": 10,
     "metadata": {},
     "output_type": "execute_result"
    }
   ],
   "source": [
    "train_data['Locality'].nunique()"
   ]
  },
  {
   "cell_type": "code",
   "execution_count": 11,
   "metadata": {},
   "outputs": [
    {
     "name": "stdout",
     "output_type": "stream",
     "text": [
      "<class 'pandas.core.frame.DataFrame'>\n",
      "RangeIndex: 997 entries, 0 to 996\n",
      "Data columns (total 6 columns):\n",
      " #   Column                  Non-Null Count  Dtype \n",
      "---  ------                  --------------  ----- \n",
      " 0   Brand                   997 non-null    int64 \n",
      " 1   Model_Info              997 non-null    object\n",
      " 2   Additional_Description  997 non-null    object\n",
      " 3   Locality                997 non-null    int64 \n",
      " 4   City                    997 non-null    int64 \n",
      " 5   State                   997 non-null    int64 \n",
      "dtypes: int64(4), object(2)\n",
      "memory usage: 46.9+ KB\n"
     ]
    }
   ],
   "source": [
    "#no missing values in the train data\n",
    "test_data.info()"
   ]
  },
  {
   "cell_type": "code",
   "execution_count": 12,
   "metadata": {},
   "outputs": [
    {
     "data": {
      "text/plain": [
       "15"
      ]
     },
     "execution_count": 12,
     "metadata": {},
     "output_type": "execute_result"
    }
   ],
   "source": [
    "#no missing value for  test data\n",
    "test_data['City'].nunique()"
   ]
  },
  {
   "cell_type": "code",
   "execution_count": 13,
   "metadata": {},
   "outputs": [
    {
     "data": {
      "text/plain": [
       "11"
      ]
     },
     "execution_count": 13,
     "metadata": {},
     "output_type": "execute_result"
    }
   ],
   "source": [
    "len(np.intersect1d(train_data['City'],test_data['City']))#equal categories in the train and test data"
   ]
  },
  {
   "cell_type": "code",
   "execution_count": 15,
   "metadata": {},
   "outputs": [
    {
     "data": {
      "image/png": "[encoded data removed]",
      "text/plain": [
       "<Figure size 1080x1080 with 1 Axes>"
      ]
     },
     "metadata": {
      "needs_background": "light"
     },
     "output_type": "display_data"
    }
   ],
   "source": [
    "#a function to show frequently occuring words\n",
    "from wordcloud import WordCloud, STOPWORDS\n",
    "stopwords1 = set(STOPWORDS)\n",
    "from sklearn.utils import shuffle\n",
    "\n",
    "def show_wordcloud(data, title = None):\n",
    "    wordcloud = WordCloud(\n",
    "        background_color='black',\n",
    "        stopwords=stopwords1,\n",
    "        max_words=200,\n",
    "        max_font_size=40, \n",
    "        scale=3,\n",
    "        random_state=1 # chosen at random by flipping a coin; it was heads\n",
    ").generate(str(data))\n",
    "\n",
    "    fig = plt.figure(1, figsize=(15, 15))\n",
    "    plt.axis('off')\n",
    "    if title: \n",
    "        fig.suptitle(title, fontsize=20)\n",
    "        fig.subplots_adjust(top=2.3)\n",
    "\n",
    "    plt.imshow(wordcloud)\n",
    "    plt.show()\n",
    "\n",
    "show_wordcloud(train_data[train_data.Price>=18945]['Model_Info'])"
   ]
  },
  {
   "cell_type": "code",
   "execution_count": 17,
   "metadata": {},
   "outputs": [
    {
     "data": {
      "image/png": "[encoded data removed]",
      "text/plain": [
       "<Figure size 1080x1080 with 1 Axes>"
      ]
     },
     "metadata": {
      "needs_background": "light"
     },
     "output_type": "display_data"
    }
   ],
   "source": [
    "show_wordcloud(train_data[train_data.Price<18945]['Model_Info'])"
   ]
  },
  {
   "cell_type": "code",
   "execution_count": 28,
   "metadata": {},
   "outputs": [],
   "source": [
    "#from the word cloud, we can see that the memory is important before considering the price\n",
    "#lets create another column to differentiate the memory size\n",
    "#first, lets define a function to help us find emory size\n",
    "def finding(v):\n",
    "    if v.find(\"32gb\")!=-1 or v.find(\"32 gb\")!=-1:\n",
    "        return 1\n",
    "    elif v.find(\"64gb\")!=-1 or v.find(\"64 gb\")!=-1:\n",
    "        return 2\n",
    "    elif v.find(\"128gb\")!=-1 or v.find(\"128 gb\")!=-1:\n",
    "        return 3\n",
    "    elif v.find(\"256gb\")!=-1 or v.find(\"256 gb\")!=-1:\n",
    "        return 4\n",
    "    else:\n",
    "        return 0"
   ]
  },
  {
   "cell_type": "code",
   "execution_count": 29,
   "metadata": {},
   "outputs": [],
   "source": [
    "train_data['Class'] = train_data['Model_Info'].apply(finding)\n",
    "test_data['Class'] = test_data['Model_Info'].apply(finding)"
   ]
  },
  {
   "cell_type": "code",
   "execution_count": 30,
   "metadata": {},
   "outputs": [
    {
     "data": {
      "text/html": [
       "<div>\n",
       "<style scoped>\n",
       "    .dataframe tbody tr th:only-of-type {\n",
       "        vertical-align: middle;\n",
       "    }\n",
       "\n",
       "    .dataframe tbody tr th {\n",
       "        vertical-align: top;\n",
       "    }\n",
       "\n",
       "    .dataframe thead th {\n",
       "        text-align: right;\n",
       "    }\n",
       "</style>\n",
       "<table border=\"1\" class=\"dataframe\">\n",
       "  <thead>\n",
       "    <tr style=\"text-align: right;\">\n",
       "      <th></th>\n",
       "      <th>Brand</th>\n",
       "      <th>Model_Info</th>\n",
       "      <th>Additional_Description</th>\n",
       "      <th>Locality</th>\n",
       "      <th>City</th>\n",
       "      <th>State</th>\n",
       "      <th>Price</th>\n",
       "      <th>Class</th>\n",
       "    </tr>\n",
       "  </thead>\n",
       "  <tbody>\n",
       "    <tr>\n",
       "      <th>0</th>\n",
       "      <td>1</td>\n",
       "      <td>name0 name234 64gb space grey</td>\n",
       "      <td>1yesr old mobile number 999two905two99 bill c...</td>\n",
       "      <td>878</td>\n",
       "      <td>8</td>\n",
       "      <td>2</td>\n",
       "      <td>15000</td>\n",
       "      <td>2</td>\n",
       "    </tr>\n",
       "    <tr>\n",
       "      <th>1</th>\n",
       "      <td>1</td>\n",
       "      <td>phone 7 name42 name453 new condition box acce...</td>\n",
       "      <td>101004800 1010065900 7000</td>\n",
       "      <td>1081</td>\n",
       "      <td>4</td>\n",
       "      <td>0</td>\n",
       "      <td>18800</td>\n",
       "      <td>0</td>\n",
       "    </tr>\n",
       "    <tr>\n",
       "      <th>2</th>\n",
       "      <td>1</td>\n",
       "      <td>name0 x 256gb leess used good condition</td>\n",
       "      <td>1010010000 seperate screen guard 3 back cover...</td>\n",
       "      <td>495</td>\n",
       "      <td>11</td>\n",
       "      <td>4</td>\n",
       "      <td>50000</td>\n",
       "      <td>4</td>\n",
       "    </tr>\n",
       "    <tr>\n",
       "      <th>3</th>\n",
       "      <td>1</td>\n",
       "      <td>name0 6s plus 64 gb space grey</td>\n",
       "      <td>without 1010020100 id 1010010300 colour 10100...</td>\n",
       "      <td>287</td>\n",
       "      <td>10</td>\n",
       "      <td>7</td>\n",
       "      <td>16500</td>\n",
       "      <td>2</td>\n",
       "    </tr>\n",
       "    <tr>\n",
       "      <th>4</th>\n",
       "      <td>1</td>\n",
       "      <td>phone 7 sealed pack brand new factory outet p...</td>\n",
       "      <td>101008700 10100000 xs max 64 gb made 10100850...</td>\n",
       "      <td>342</td>\n",
       "      <td>4</td>\n",
       "      <td>0</td>\n",
       "      <td>26499</td>\n",
       "      <td>0</td>\n",
       "    </tr>\n",
       "  </tbody>\n",
       "</table>\n",
       "</div>"
      ],
      "text/plain": [
       "   Brand                                         Model_Info  \\\n",
       "0      1                      name0 name234 64gb space grey   \n",
       "1      1   phone 7 name42 name453 new condition box acce...   \n",
       "2      1            name0 x 256gb leess used good condition   \n",
       "3      1                     name0 6s plus 64 gb space grey   \n",
       "4      1   phone 7 sealed pack brand new factory outet p...   \n",
       "\n",
       "                              Additional_Description  Locality  City  State  \\\n",
       "0   1yesr old mobile number 999two905two99 bill c...       878     8      2   \n",
       "1                          101004800 1010065900 7000      1081     4      0   \n",
       "2   1010010000 seperate screen guard 3 back cover...       495    11      4   \n",
       "3   without 1010020100 id 1010010300 colour 10100...       287    10      7   \n",
       "4   101008700 10100000 xs max 64 gb made 10100850...       342     4      0   \n",
       "\n",
       "   Price  Class  \n",
       "0  15000      2  \n",
       "1  18800      0  \n",
       "2  50000      4  \n",
       "3  16500      2  \n",
       "4  26499      0  "
      ]
     },
     "execution_count": 30,
     "metadata": {},
     "output_type": "execute_result"
    }
   ],
   "source": [
    "train_data.head()"
   ]
  },
  {
   "cell_type": "code",
   "execution_count": 1,
   "metadata": {},
   "outputs": [
    {
     "ename": "NameError",
     "evalue": "name 'plt' is not defined",
     "output_type": "error",
     "traceback": [
      "\u001b[1;31m---------------------------------------------------------------------------\u001b[0m",
      "\u001b[1;31mNameError\u001b[0m                                 Traceback (most recent call last)",
      "\u001b[1;32m<ipython-input-1-41e1c3534584>\u001b[0m in \u001b[0;36m<module>\u001b[1;34m\u001b[0m\n\u001b[0;32m      1\u001b[0m \u001b[1;31m#lets see the relattionship(correlation) between locality, city and state with the price\u001b[0m\u001b[1;33m\u001b[0m\u001b[1;33m\u001b[0m\u001b[1;33m\u001b[0m\u001b[0m\n\u001b[0;32m      2\u001b[0m \u001b[1;32mimport\u001b[0m \u001b[0mseaborn\u001b[0m \u001b[1;32mas\u001b[0m \u001b[0msns\u001b[0m\u001b[1;33m\u001b[0m\u001b[1;33m\u001b[0m\u001b[0m\n\u001b[1;32m----> 3\u001b[1;33m \u001b[0mfig\u001b[0m\u001b[1;33m,\u001b[0m\u001b[0maxs\u001b[0m\u001b[1;33m=\u001b[0m\u001b[0mplt\u001b[0m\u001b[1;33m.\u001b[0m\u001b[0msubplots\u001b[0m\u001b[1;33m(\u001b[0m\u001b[0mnrows\u001b[0m\u001b[1;33m=\u001b[0m\u001b[1;36m1\u001b[0m\u001b[1;33m,\u001b[0m\u001b[0mfigsize\u001b[0m\u001b[1;33m=\u001b[0m\u001b[1;33m(\u001b[0m\u001b[1;36m13\u001b[0m\u001b[1;33m,\u001b[0m\u001b[1;36m13\u001b[0m\u001b[1;33m)\u001b[0m\u001b[1;33m)\u001b[0m\u001b[1;33m\u001b[0m\u001b[1;33m\u001b[0m\u001b[0m\n\u001b[0m\u001b[0;32m      4\u001b[0m sns.heatmap(train_data.corr(),\n\u001b[0;32m      5\u001b[0m            \u001b[0mannot\u001b[0m\u001b[1;33m=\u001b[0m\u001b[1;32mTrue\u001b[0m\u001b[1;33m,\u001b[0m\u001b[0msquare\u001b[0m\u001b[1;33m=\u001b[0m\u001b[1;32mTrue\u001b[0m\u001b[1;33m,\u001b[0m\u001b[0mcmap\u001b[0m\u001b[1;33m=\u001b[0m\u001b[1;34m'viridis'\u001b[0m\u001b[1;33m,\u001b[0m\u001b[1;33m\u001b[0m\u001b[1;33m\u001b[0m\u001b[0m\n",
      "\u001b[1;31mNameError\u001b[0m: name 'plt' is not defined"
     ]
    }
   ],
   "source": [
    "#lets see the relattionship(correlation) between locality, city and state with the price\n",
    "import seaborn as sns\n",
    "fig,axs=plt.subplots(nrows=1,figsize=(13,13))\n",
    "sns.heatmap(train_data.corr(),\n",
    "           annot=True,square=True,cmap='viridis',\n",
    "           linewidths=2,linecolor='black',annot_kws={'size':12});"
   ]
  },
  {
   "cell_type": "code",
   "execution_count": 31,
   "metadata": {},
   "outputs": [],
   "source": [
    "overall = train_data.append(test_data, ignore_index=True, sort=False)#we had to appen because the categories of state were not equal for both test and train"
   ]
  },
  {
   "cell_type": "code",
   "execution_count": 32,
   "metadata": {},
   "outputs": [],
   "source": [
    "overall = pd.get_dummies(overall, columns=['State',\"Brand\", 'City'], drop_first=False)"
   ]
  },
  {
   "cell_type": "code",
   "execution_count": 33,
   "metadata": {},
   "outputs": [],
   "source": [
    "train_data, test_data=overall[overall.Price.isnull()==False], overall[overall.Price.isnull()==True]#split the data using condition of true of false for price value\n",
    "test_data.reset_index(drop=True, inplace=True)\n",
    "target = np.log1p(train_data['Price'])#applying log transformation to the price"
   ]
  },
  {
   "cell_type": "code",
   "execution_count": 34,
   "metadata": {},
   "outputs": [
    {
     "data": {
      "text/html": [
       "<div>\n",
       "<style scoped>\n",
       "    .dataframe tbody tr th:only-of-type {\n",
       "        vertical-align: middle;\n",
       "    }\n",
       "\n",
       "    .dataframe tbody tr th {\n",
       "        vertical-align: top;\n",
       "    }\n",
       "\n",
       "    .dataframe thead th {\n",
       "        text-align: right;\n",
       "    }\n",
       "</style>\n",
       "<table border=\"1\" class=\"dataframe\">\n",
       "  <thead>\n",
       "    <tr style=\"text-align: right;\">\n",
       "      <th></th>\n",
       "      <th>Model_Info</th>\n",
       "      <th>Additional_Description</th>\n",
       "      <th>Locality</th>\n",
       "      <th>Price</th>\n",
       "      <th>Class</th>\n",
       "      <th>State_0</th>\n",
       "      <th>State_1</th>\n",
       "      <th>State_2</th>\n",
       "      <th>State_3</th>\n",
       "      <th>State_4</th>\n",
       "      <th>...</th>\n",
       "      <th>City_10</th>\n",
       "      <th>City_11</th>\n",
       "      <th>City_12</th>\n",
       "      <th>City_13</th>\n",
       "      <th>City_14</th>\n",
       "      <th>City_15</th>\n",
       "      <th>City_16</th>\n",
       "      <th>City_17</th>\n",
       "      <th>City_18</th>\n",
       "      <th>City_19</th>\n",
       "    </tr>\n",
       "  </thead>\n",
       "  <tbody>\n",
       "    <tr>\n",
       "      <th>0</th>\n",
       "      <td>name0 name234 64gb space grey</td>\n",
       "      <td>1yesr old mobile number 999two905two99 bill c...</td>\n",
       "      <td>878</td>\n",
       "      <td>15000.0</td>\n",
       "      <td>2</td>\n",
       "      <td>0</td>\n",
       "      <td>0</td>\n",
       "      <td>1</td>\n",
       "      <td>0</td>\n",
       "      <td>0</td>\n",
       "      <td>...</td>\n",
       "      <td>0</td>\n",
       "      <td>0</td>\n",
       "      <td>0</td>\n",
       "      <td>0</td>\n",
       "      <td>0</td>\n",
       "      <td>0</td>\n",
       "      <td>0</td>\n",
       "      <td>0</td>\n",
       "      <td>0</td>\n",
       "      <td>0</td>\n",
       "    </tr>\n",
       "    <tr>\n",
       "      <th>1</th>\n",
       "      <td>phone 7 name42 name453 new condition box acce...</td>\n",
       "      <td>101004800 1010065900 7000</td>\n",
       "      <td>1081</td>\n",
       "      <td>18800.0</td>\n",
       "      <td>0</td>\n",
       "      <td>1</td>\n",
       "      <td>0</td>\n",
       "      <td>0</td>\n",
       "      <td>0</td>\n",
       "      <td>0</td>\n",
       "      <td>...</td>\n",
       "      <td>0</td>\n",
       "      <td>0</td>\n",
       "      <td>0</td>\n",
       "      <td>0</td>\n",
       "      <td>0</td>\n",
       "      <td>0</td>\n",
       "      <td>0</td>\n",
       "      <td>0</td>\n",
       "      <td>0</td>\n",
       "      <td>0</td>\n",
       "    </tr>\n",
       "    <tr>\n",
       "      <th>2</th>\n",
       "      <td>name0 x 256gb leess used good condition</td>\n",
       "      <td>1010010000 seperate screen guard 3 back cover...</td>\n",
       "      <td>495</td>\n",
       "      <td>50000.0</td>\n",
       "      <td>4</td>\n",
       "      <td>0</td>\n",
       "      <td>0</td>\n",
       "      <td>0</td>\n",
       "      <td>0</td>\n",
       "      <td>1</td>\n",
       "      <td>...</td>\n",
       "      <td>0</td>\n",
       "      <td>1</td>\n",
       "      <td>0</td>\n",
       "      <td>0</td>\n",
       "      <td>0</td>\n",
       "      <td>0</td>\n",
       "      <td>0</td>\n",
       "      <td>0</td>\n",
       "      <td>0</td>\n",
       "      <td>0</td>\n",
       "    </tr>\n",
       "    <tr>\n",
       "      <th>3</th>\n",
       "      <td>name0 6s plus 64 gb space grey</td>\n",
       "      <td>without 1010020100 id 1010010300 colour 10100...</td>\n",
       "      <td>287</td>\n",
       "      <td>16500.0</td>\n",
       "      <td>2</td>\n",
       "      <td>0</td>\n",
       "      <td>0</td>\n",
       "      <td>0</td>\n",
       "      <td>0</td>\n",
       "      <td>0</td>\n",
       "      <td>...</td>\n",
       "      <td>1</td>\n",
       "      <td>0</td>\n",
       "      <td>0</td>\n",
       "      <td>0</td>\n",
       "      <td>0</td>\n",
       "      <td>0</td>\n",
       "      <td>0</td>\n",
       "      <td>0</td>\n",
       "      <td>0</td>\n",
       "      <td>0</td>\n",
       "    </tr>\n",
       "    <tr>\n",
       "      <th>4</th>\n",
       "      <td>phone 7 sealed pack brand new factory outet p...</td>\n",
       "      <td>101008700 10100000 xs max 64 gb made 10100850...</td>\n",
       "      <td>342</td>\n",
       "      <td>26499.0</td>\n",
       "      <td>0</td>\n",
       "      <td>1</td>\n",
       "      <td>0</td>\n",
       "      <td>0</td>\n",
       "      <td>0</td>\n",
       "      <td>0</td>\n",
       "      <td>...</td>\n",
       "      <td>0</td>\n",
       "      <td>0</td>\n",
       "      <td>0</td>\n",
       "      <td>0</td>\n",
       "      <td>0</td>\n",
       "      <td>0</td>\n",
       "      <td>0</td>\n",
       "      <td>0</td>\n",
       "      <td>0</td>\n",
       "      <td>0</td>\n",
       "    </tr>\n",
       "  </tbody>\n",
       "</table>\n",
       "<p>5 rows × 38 columns</p>\n",
       "</div>"
      ],
      "text/plain": [
       "                                          Model_Info  \\\n",
       "0                      name0 name234 64gb space grey   \n",
       "1   phone 7 name42 name453 new condition box acce...   \n",
       "2            name0 x 256gb leess used good condition   \n",
       "3                     name0 6s plus 64 gb space grey   \n",
       "4   phone 7 sealed pack brand new factory outet p...   \n",
       "\n",
       "                              Additional_Description  Locality    Price  \\\n",
       "0   1yesr old mobile number 999two905two99 bill c...       878  15000.0   \n",
       "1                          101004800 1010065900 7000      1081  18800.0   \n",
       "2   1010010000 seperate screen guard 3 back cover...       495  50000.0   \n",
       "3   without 1010020100 id 1010010300 colour 10100...       287  16500.0   \n",
       "4   101008700 10100000 xs max 64 gb made 10100850...       342  26499.0   \n",
       "\n",
       "   Class  State_0  State_1  State_2  State_3  State_4  ...  City_10  City_11  \\\n",
       "0      2        0        0        1        0        0  ...        0        0   \n",
       "1      0        1        0        0        0        0  ...        0        0   \n",
       "2      4        0        0        0        0        1  ...        0        1   \n",
       "3      2        0        0        0        0        0  ...        1        0   \n",
       "4      0        1        0        0        0        0  ...        0        0   \n",
       "\n",
       "   City_12  City_13  City_14  City_15  City_16  City_17  City_18  City_19  \n",
       "0        0        0        0        0        0        0        0        0  \n",
       "1        0        0        0        0        0        0        0        0  \n",
       "2        0        0        0        0        0        0        0        0  \n",
       "3        0        0        0        0        0        0        0        0  \n",
       "4        0        0        0        0        0        0        0        0  \n",
       "\n",
       "[5 rows x 38 columns]"
      ]
     },
     "execution_count": 34,
     "metadata": {},
     "output_type": "execute_result"
    }
   ],
   "source": [
    "train_data.head()"
   ]
  },
  {
   "cell_type": "code",
   "execution_count": 35,
   "metadata": {},
   "outputs": [],
   "source": [
    "import pickle\n",
    "import re\n",
    "import string\n",
    "\n",
    "def clean_text_round1(text):\n",
    "    '''Make text lowercase, remove text in square brackets, remove punctuation and remove words containing numbers.'''\n",
    "    text = text.lower()\n",
    "    text = re.sub('\\[.*?\\]', '', text)\n",
    "    text = re.sub('[%s]' % re.escape(string.punctuation), '', text)\n",
    "    text =  re.sub(\" \\d+\", \" \", text)#numbers only\n",
    "    text = re.sub('\\w*\\d\\w*', '', text)#numbers and texts\n",
    "    return text\n",
    "\n",
    "round1 = lambda x: clean_text_round1(x)"
   ]
  },
  {
   "cell_type": "code",
   "execution_count": 36,
   "metadata": {},
   "outputs": [
    {
     "data": {
      "text/html": [
       "<div>\n",
       "<style scoped>\n",
       "    .dataframe tbody tr th:only-of-type {\n",
       "        vertical-align: middle;\n",
       "    }\n",
       "\n",
       "    .dataframe tbody tr th {\n",
       "        vertical-align: top;\n",
       "    }\n",
       "\n",
       "    .dataframe thead th {\n",
       "        text-align: right;\n",
       "    }\n",
       "</style>\n",
       "<table border=\"1\" class=\"dataframe\">\n",
       "  <thead>\n",
       "    <tr style=\"text-align: right;\">\n",
       "      <th></th>\n",
       "      <th>Model_Info</th>\n",
       "    </tr>\n",
       "  </thead>\n",
       "  <tbody>\n",
       "    <tr>\n",
       "      <th>0</th>\n",
       "      <td>gb space grey</td>\n",
       "    </tr>\n",
       "    <tr>\n",
       "      <th>1</th>\n",
       "      <td>phone    new condition box accessories</td>\n",
       "    </tr>\n",
       "    <tr>\n",
       "      <th>2</th>\n",
       "      <td>x gb leess used good condition</td>\n",
       "    </tr>\n",
       "    <tr>\n",
       "      <th>3</th>\n",
       "      <td>s plus  gb space grey</td>\n",
       "    </tr>\n",
       "    <tr>\n",
       "      <th>4</th>\n",
       "      <td>phone  sealed pack brand new factory outet price</td>\n",
       "    </tr>\n",
       "  </tbody>\n",
       "</table>\n",
       "</div>"
      ],
      "text/plain": [
       "                                          Model_Info\n",
       "0                                      gb space grey\n",
       "1             phone    new condition box accessories\n",
       "2                     x gb leess used good condition\n",
       "3                              s plus  gb space grey\n",
       "4   phone  sealed pack brand new factory outet price"
      ]
     },
     "execution_count": 36,
     "metadata": {},
     "output_type": "execute_result"
    }
   ],
   "source": [
    "# Let's take a look at the updated text\n",
    "train_clean = pd.DataFrame(train_data.Model_Info.apply(round1))\n",
    "train_clean.head()"
   ]
  },
  {
   "cell_type": "code",
   "execution_count": 37,
   "metadata": {},
   "outputs": [
    {
     "data": {
      "text/html": [
       "<div>\n",
       "<style scoped>\n",
       "    .dataframe tbody tr th:only-of-type {\n",
       "        vertical-align: middle;\n",
       "    }\n",
       "\n",
       "    .dataframe tbody tr th {\n",
       "        vertical-align: top;\n",
       "    }\n",
       "\n",
       "    .dataframe thead th {\n",
       "        text-align: right;\n",
       "    }\n",
       "</style>\n",
       "<table border=\"1\" class=\"dataframe\">\n",
       "  <thead>\n",
       "    <tr style=\"text-align: right;\">\n",
       "      <th></th>\n",
       "      <th>Model_Info</th>\n",
       "    </tr>\n",
       "  </thead>\n",
       "  <tbody>\n",
       "    <tr>\n",
       "      <th>0</th>\n",
       "      <td>etc</td>\n",
       "    </tr>\n",
       "    <tr>\n",
       "      <th>1</th>\n",
       "      <td>slightly used excellent condition   sale</td>\n",
       "    </tr>\n",
       "    <tr>\n",
       "      <th>2</th>\n",
       "      <td>sx  top letast model bill call</td>\n",
       "    </tr>\n",
       "    <tr>\n",
       "      <th>3</th>\n",
       "      <td>x gb going lowest</td>\n",
       "    </tr>\n",
       "    <tr>\n",
       "      <th>4</th>\n",
       "      <td>s proper condition one handedly used</td>\n",
       "    </tr>\n",
       "  </tbody>\n",
       "</table>\n",
       "</div>"
      ],
      "text/plain": [
       "                                  Model_Info\n",
       "0                                        etc\n",
       "1   slightly used excellent condition   sale\n",
       "2             sx  top letast model bill call\n",
       "3                         x gb going lowest \n",
       "4       s proper condition one handedly used"
      ]
     },
     "execution_count": 37,
     "metadata": {},
     "output_type": "execute_result"
    }
   ],
   "source": [
    "test_clean = pd.DataFrame(test_data.Model_Info.apply(round1))\n",
    "test_clean.head()"
   ]
  },
  {
   "cell_type": "code",
   "execution_count": 38,
   "metadata": {},
   "outputs": [],
   "source": [
    "# Apply a second round of cleaning\n",
    "def clean_text_round2(text):\n",
    "    '''Get rid of some additional punctuation and non-sensical text that was missed the first time around.'''\n",
    "    text = re.sub('[‘’“”…]', '', text)\n",
    "    text = re.sub('\\n', '', text)\n",
    "    return text\n",
    "\n",
    "round2 = lambda x: clean_text_round2(x)"
   ]
  },
  {
   "cell_type": "code",
   "execution_count": 39,
   "metadata": {},
   "outputs": [
    {
     "data": {
      "text/html": [
       "<div>\n",
       "<style scoped>\n",
       "    .dataframe tbody tr th:only-of-type {\n",
       "        vertical-align: middle;\n",
       "    }\n",
       "\n",
       "    .dataframe tbody tr th {\n",
       "        vertical-align: top;\n",
       "    }\n",
       "\n",
       "    .dataframe thead th {\n",
       "        text-align: right;\n",
       "    }\n",
       "</style>\n",
       "<table border=\"1\" class=\"dataframe\">\n",
       "  <thead>\n",
       "    <tr style=\"text-align: right;\">\n",
       "      <th></th>\n",
       "      <th>Model_Info</th>\n",
       "    </tr>\n",
       "  </thead>\n",
       "  <tbody>\n",
       "    <tr>\n",
       "      <th>0</th>\n",
       "      <td>gb space grey</td>\n",
       "    </tr>\n",
       "    <tr>\n",
       "      <th>1</th>\n",
       "      <td>phone    new condition box accessories</td>\n",
       "    </tr>\n",
       "    <tr>\n",
       "      <th>2</th>\n",
       "      <td>x gb leess used good condition</td>\n",
       "    </tr>\n",
       "    <tr>\n",
       "      <th>3</th>\n",
       "      <td>s plus  gb space grey</td>\n",
       "    </tr>\n",
       "    <tr>\n",
       "      <th>4</th>\n",
       "      <td>phone  sealed pack brand new factory outet price</td>\n",
       "    </tr>\n",
       "  </tbody>\n",
       "</table>\n",
       "</div>"
      ],
      "text/plain": [
       "                                          Model_Info\n",
       "0                                      gb space grey\n",
       "1             phone    new condition box accessories\n",
       "2                     x gb leess used good condition\n",
       "3                              s plus  gb space grey\n",
       "4   phone  sealed pack brand new factory outet price"
      ]
     },
     "execution_count": 39,
     "metadata": {},
     "output_type": "execute_result"
    }
   ],
   "source": [
    "# Let's take a look at the updated train_data\n",
    "train_clean = pd.DataFrame(train_clean.Model_Info.apply(round2))\n",
    "train_clean.head()"
   ]
  },
  {
   "cell_type": "code",
   "execution_count": 40,
   "metadata": {},
   "outputs": [
    {
     "data": {
      "text/html": [
       "<div>\n",
       "<style scoped>\n",
       "    .dataframe tbody tr th:only-of-type {\n",
       "        vertical-align: middle;\n",
       "    }\n",
       "\n",
       "    .dataframe tbody tr th {\n",
       "        vertical-align: top;\n",
       "    }\n",
       "\n",
       "    .dataframe thead th {\n",
       "        text-align: right;\n",
       "    }\n",
       "</style>\n",
       "<table border=\"1\" class=\"dataframe\">\n",
       "  <thead>\n",
       "    <tr style=\"text-align: right;\">\n",
       "      <th></th>\n",
       "      <th>Model_Info</th>\n",
       "    </tr>\n",
       "  </thead>\n",
       "  <tbody>\n",
       "    <tr>\n",
       "      <th>0</th>\n",
       "      <td>etc</td>\n",
       "    </tr>\n",
       "    <tr>\n",
       "      <th>1</th>\n",
       "      <td>slightly used excellent condition   sale</td>\n",
       "    </tr>\n",
       "    <tr>\n",
       "      <th>2</th>\n",
       "      <td>sx  top letast model bill call</td>\n",
       "    </tr>\n",
       "    <tr>\n",
       "      <th>3</th>\n",
       "      <td>x gb going lowest</td>\n",
       "    </tr>\n",
       "    <tr>\n",
       "      <th>4</th>\n",
       "      <td>s proper condition one handedly used</td>\n",
       "    </tr>\n",
       "  </tbody>\n",
       "</table>\n",
       "</div>"
      ],
      "text/plain": [
       "                                  Model_Info\n",
       "0                                        etc\n",
       "1   slightly used excellent condition   sale\n",
       "2             sx  top letast model bill call\n",
       "3                         x gb going lowest \n",
       "4       s proper condition one handedly used"
      ]
     },
     "execution_count": 40,
     "metadata": {},
     "output_type": "execute_result"
    }
   ],
   "source": [
    "test_clean = pd.DataFrame(test_clean.Model_Info.apply(round2))\n",
    "test_clean.head()"
   ]
  },
  {
   "cell_type": "code",
   "execution_count": 41,
   "metadata": {},
   "outputs": [],
   "source": [
    "#we are using tfid because we want to place emphasis on the frequent words\n",
    "from sklearn.feature_extraction.text import CountVectorizer,TfidfVectorizer\n",
    "Tvect = TfidfVectorizer(ngram_range=(1,3),stop_words=\"english\", analyzer='word')\n",
    "train_vect =Tvect.fit_transform(train_data['Model_Info'])\n",
    "test_vect =Tvect.transform(test_data['Model_Info'])\n",
    "\n",
    "\n",
    "Tvect1 = TfidfVectorizer(ngram_range=(2,6),stop_words=\"english\", analyzer='char')#2 words 6 tokens\n",
    "train_vect1 =Tvect1.fit_transform(train_data['Model_Info'])\n",
    "test_vect1 =Tvect1.transform(test_data['Model_Info'])\n",
    "#we may have to drop the addiional description because it has little effect on the price"
   ]
  },
  {
   "cell_type": "code",
   "execution_count": 42,
   "metadata": {},
   "outputs": [
    {
     "data": {
      "text/html": [
       "<div>\n",
       "<style scoped>\n",
       "    .dataframe tbody tr th:only-of-type {\n",
       "        vertical-align: middle;\n",
       "    }\n",
       "\n",
       "    .dataframe tbody tr th {\n",
       "        vertical-align: top;\n",
       "    }\n",
       "\n",
       "    .dataframe thead th {\n",
       "        text-align: right;\n",
       "    }\n",
       "</style>\n",
       "<table border=\"1\" class=\"dataframe\">\n",
       "  <thead>\n",
       "    <tr style=\"text-align: right;\">\n",
       "      <th></th>\n",
       "      <th>Model_Info</th>\n",
       "      <th>Additional_Description</th>\n",
       "      <th>Locality</th>\n",
       "      <th>Price</th>\n",
       "      <th>Class</th>\n",
       "      <th>State_0</th>\n",
       "      <th>State_1</th>\n",
       "      <th>State_2</th>\n",
       "      <th>State_3</th>\n",
       "      <th>State_4</th>\n",
       "      <th>...</th>\n",
       "      <th>City_10</th>\n",
       "      <th>City_11</th>\n",
       "      <th>City_12</th>\n",
       "      <th>City_13</th>\n",
       "      <th>City_14</th>\n",
       "      <th>City_15</th>\n",
       "      <th>City_16</th>\n",
       "      <th>City_17</th>\n",
       "      <th>City_18</th>\n",
       "      <th>City_19</th>\n",
       "    </tr>\n",
       "  </thead>\n",
       "  <tbody>\n",
       "    <tr>\n",
       "      <th>0</th>\n",
       "      <td>name0 55s66s66s778xxsxsmax etc</td>\n",
       "      <td>good condition 11months old single scratch we...</td>\n",
       "      <td>570</td>\n",
       "      <td>NaN</td>\n",
       "      <td>0</td>\n",
       "      <td>0</td>\n",
       "      <td>0</td>\n",
       "      <td>0</td>\n",
       "      <td>0</td>\n",
       "      <td>1</td>\n",
       "      <td>...</td>\n",
       "      <td>0</td>\n",
       "      <td>1</td>\n",
       "      <td>0</td>\n",
       "      <td>0</td>\n",
       "      <td>0</td>\n",
       "      <td>0</td>\n",
       "      <td>0</td>\n",
       "      <td>0</td>\n",
       "      <td>0</td>\n",
       "      <td>0</td>\n",
       "    </tr>\n",
       "    <tr>\n",
       "      <th>1</th>\n",
       "      <td>slightly used excellent condition name0 5 sale</td>\n",
       "      <td>101008700 1010030600 1010034300 10100192200 1...</td>\n",
       "      <td>762</td>\n",
       "      <td>NaN</td>\n",
       "      <td>0</td>\n",
       "      <td>0</td>\n",
       "      <td>0</td>\n",
       "      <td>1</td>\n",
       "      <td>0</td>\n",
       "      <td>0</td>\n",
       "      <td>...</td>\n",
       "      <td>0</td>\n",
       "      <td>0</td>\n",
       "      <td>0</td>\n",
       "      <td>0</td>\n",
       "      <td>0</td>\n",
       "      <td>0</td>\n",
       "      <td>0</td>\n",
       "      <td>0</td>\n",
       "      <td>0</td>\n",
       "      <td>0</td>\n",
       "    </tr>\n",
       "    <tr>\n",
       "      <th>2</th>\n",
       "      <td>name0 sx ios12 top letast model bill call</td>\n",
       "      <td>1010017300 delivery</td>\n",
       "      <td>60</td>\n",
       "      <td>NaN</td>\n",
       "      <td>0</td>\n",
       "      <td>0</td>\n",
       "      <td>0</td>\n",
       "      <td>0</td>\n",
       "      <td>0</td>\n",
       "      <td>0</td>\n",
       "      <td>...</td>\n",
       "      <td>0</td>\n",
       "      <td>0</td>\n",
       "      <td>0</td>\n",
       "      <td>1</td>\n",
       "      <td>0</td>\n",
       "      <td>0</td>\n",
       "      <td>0</td>\n",
       "      <td>0</td>\n",
       "      <td>0</td>\n",
       "      <td>0</td>\n",
       "    </tr>\n",
       "    <tr>\n",
       "      <th>3</th>\n",
       "      <td>name87 name0 x 64gb going lowest 41900</td>\n",
       "      <td>phone 1010023400 64 gb excellent condition sale</td>\n",
       "      <td>640</td>\n",
       "      <td>NaN</td>\n",
       "      <td>2</td>\n",
       "      <td>0</td>\n",
       "      <td>0</td>\n",
       "      <td>0</td>\n",
       "      <td>0</td>\n",
       "      <td>0</td>\n",
       "      <td>...</td>\n",
       "      <td>0</td>\n",
       "      <td>0</td>\n",
       "      <td>0</td>\n",
       "      <td>0</td>\n",
       "      <td>0</td>\n",
       "      <td>1</td>\n",
       "      <td>0</td>\n",
       "      <td>0</td>\n",
       "      <td>0</td>\n",
       "      <td>0</td>\n",
       "    </tr>\n",
       "    <tr>\n",
       "      <th>4</th>\n",
       "      <td>name0 5s proper condition one handedly used</td>\n",
       "      <td>full kit available 10100248300 condition 4gb ...</td>\n",
       "      <td>816</td>\n",
       "      <td>NaN</td>\n",
       "      <td>0</td>\n",
       "      <td>0</td>\n",
       "      <td>0</td>\n",
       "      <td>0</td>\n",
       "      <td>0</td>\n",
       "      <td>0</td>\n",
       "      <td>...</td>\n",
       "      <td>0</td>\n",
       "      <td>0</td>\n",
       "      <td>0</td>\n",
       "      <td>0</td>\n",
       "      <td>0</td>\n",
       "      <td>0</td>\n",
       "      <td>0</td>\n",
       "      <td>0</td>\n",
       "      <td>0</td>\n",
       "      <td>0</td>\n",
       "    </tr>\n",
       "  </tbody>\n",
       "</table>\n",
       "<p>5 rows × 38 columns</p>\n",
       "</div>"
      ],
      "text/plain": [
       "                                        Model_Info  \\\n",
       "0                   name0 55s66s66s778xxsxsmax etc   \n",
       "1   slightly used excellent condition name0 5 sale   \n",
       "2        name0 sx ios12 top letast model bill call   \n",
       "3           name87 name0 x 64gb going lowest 41900   \n",
       "4      name0 5s proper condition one handedly used   \n",
       "\n",
       "                              Additional_Description  Locality  Price  Class  \\\n",
       "0   good condition 11months old single scratch we...       570    NaN      0   \n",
       "1   101008700 1010030600 1010034300 10100192200 1...       762    NaN      0   \n",
       "2                                1010017300 delivery        60    NaN      0   \n",
       "3    phone 1010023400 64 gb excellent condition sale       640    NaN      2   \n",
       "4   full kit available 10100248300 condition 4gb ...       816    NaN      0   \n",
       "\n",
       "   State_0  State_1  State_2  State_3  State_4  ...  City_10  City_11  \\\n",
       "0        0        0        0        0        1  ...        0        1   \n",
       "1        0        0        1        0        0  ...        0        0   \n",
       "2        0        0        0        0        0  ...        0        0   \n",
       "3        0        0        0        0        0  ...        0        0   \n",
       "4        0        0        0        0        0  ...        0        0   \n",
       "\n",
       "   City_12  City_13  City_14  City_15  City_16  City_17  City_18  City_19  \n",
       "0        0        0        0        0        0        0        0        0  \n",
       "1        0        0        0        0        0        0        0        0  \n",
       "2        0        1        0        0        0        0        0        0  \n",
       "3        0        0        0        1        0        0        0        0  \n",
       "4        0        0        0        0        0        0        0        0  \n",
       "\n",
       "[5 rows x 38 columns]"
      ]
     },
     "execution_count": 42,
     "metadata": {},
     "output_type": "execute_result"
    }
   ],
   "source": [
    "test_data.head()"
   ]
  },
  {
   "cell_type": "code",
   "execution_count": 43,
   "metadata": {},
   "outputs": [],
   "source": [
    "#lets list out the features we would be using\n",
    "features = [x for x in train_data.columns if x not in ['Model_Info','Additional_Description','Price','Locality']]\n",
    "#a nice way to drop unwanted columns...#both train and test data have all these unwanted columns\n",
    "target = np.log1p(train_data['Price'])"
   ]
  },
  {
   "cell_type": "code",
   "execution_count": 44,
   "metadata": {},
   "outputs": [],
   "source": [
    "#we need to merge our new results with our existing dataframe\n",
    "from scipy.sparse import csr_matrix\n",
    "from scipy import sparse\n",
    "final_train = sparse.hstack((train_data[features],train_vect,train_vect1)).tocsr()#csr to add identical columns together\n",
    "final_test = sparse.hstack((test_data[features],test_vect,test_vect1)).tocsr()\n"
   ]
  },
  {
   "cell_type": "code",
   "execution_count": 46,
   "metadata": {},
   "outputs": [
    {
     "data": {
      "text/plain": [
       "<5x45472 sparse matrix of type '<class 'numpy.float64'>'\n",
       "\twith 1007 stored elements in Compressed Sparse Row format>"
      ]
     },
     "execution_count": 46,
     "metadata": {},
     "output_type": "execute_result"
    }
   ],
   "source": [
    "final_train.shape"
   ]
  },
  {
   "cell_type": "code",
   "execution_count": 47,
   "metadata": {},
   "outputs": [],
   "source": [
    "from sklearn.model_selection import train_test_split\n",
    "from sklearn.metrics import log_loss,mean_squared_log_error\n",
    "\n",
    "X_train, X_valid, y_train, y_valid = train_test_split(final_train, target, test_size=0.20, random_state=42)\n",
    "X_test = final_test\n"
   ]
  },
  {
   "cell_type": "code",
   "execution_count": 65,
   "metadata": {},
   "outputs": [
    {
     "name": "stdout",
     "output_type": "stream",
     "text": [
      "[04:58:58] WARNING: src/objective/regression_obj.cu:152: reg:linear is now deprecated in favor of reg:squarederror.\n",
      "[0]\tvalidation_0-rmse:8.43954\tvalidation_1-rmse:8.43415\n",
      "Multiple eval metrics have been passed: 'validation_1-rmse' will be used for early stopping.\n",
      "\n",
      "Will train until validation_1-rmse hasn't improved in 100 rounds.\n",
      "[100]\tvalidation_0-rmse:0.346299\tvalidation_1-rmse:0.445581\n",
      "[200]\tvalidation_0-rmse:0.281252\tvalidation_1-rmse:0.430855\n",
      "[300]\tvalidation_0-rmse:0.242891\tvalidation_1-rmse:0.424169\n",
      "[400]\tvalidation_0-rmse:0.21434\tvalidation_1-rmse:0.422274\n",
      "[500]\tvalidation_0-rmse:0.191437\tvalidation_1-rmse:0.421501\n",
      "Stopping. Best iteration:\n",
      "[468]\tvalidation_0-rmse:0.198357\tvalidation_1-rmse:0.421033\n",
      "\n",
      "RMSLE is: 0.4210329608028831\n"
     ]
    }
   ],
   "source": [
    "from xgboost import XGBRegressor\n",
    "from sklearn.ensemble import RandomForestRegressor,GradientBoostingRegressor\n",
    "\n",
    "# clf = LGBMClassifier(learning_rate=0.05, colsample_bytree=0.3, reg_alpha=3, reg_lambda=3, max_depth=-1, n_estimators=2000, min_child_samples=15, num_leaves=141)\n",
    "clf = XGBRegressor(n_estimators=2000,learning_rate=0.1,colsample_bytree=0.5,random_state=42,min_child_samples=2)\n",
    "clf.fit(X_train, y_train, eval_set=[(X_train, y_train), (X_valid, y_valid)], verbose=100, early_stopping_rounds=100)\n",
    "predictions_xgb = clf.predict(X_valid)\n",
    "print(f\"RMSLE is: {np.sqrt(mean_squared_log_error(np.expm1(y_valid), np.expm1(predictions_xgb)))}\")\n",
    "#we are using eval_set to monitor the performance of the model on the test data during the training"
   ]
  },
  {
   "cell_type": "code",
   "execution_count": 67,
   "metadata": {},
   "outputs": [
    {
     "name": "stdout",
     "output_type": "stream",
     "text": [
      "Training until validation scores don't improve for 100 rounds\n",
      "[100]\ttraining's rmse: 0.147526\ttraining's l2: 0.0217639\tvalid_1's rmse: 0.405788\tvalid_1's l2: 0.164664\n",
      "[200]\ttraining's rmse: 0.0976386\ttraining's l2: 0.00953329\tvalid_1's rmse: 0.406888\tvalid_1's l2: 0.165558\n",
      "Early stopping, best iteration is:\n",
      "[107]\ttraining's rmse: 0.142153\ttraining's l2: 0.0202075\tvalid_1's rmse: 0.405127\tvalid_1's l2: 0.164128\n",
      "RMSLE is: 0.4051271063066394\n"
     ]
    }
   ],
   "source": [
    "#this is beautiful, it is checking the validation on the test set after 100(verbose) steps\n",
    "#validation_0... train, validation_1....test\n",
    "from lightgbm import LGBMRegressor\n",
    "\n",
    "# clf = LGBMClassifier(learning_rate=0.05, colsample_bytree=0.3, reg_alpha=3, reg_lambda=3, max_depth=-1, n_estimators=2000, min_child_samples=15, num_leaves=141)\n",
    "clf = LGBMRegressor(learning_rate=0.1, n_estimators=4000,colsample_bytree=0.5, reg_alpha=0.5, min_child_samples=2, num_leaves=30)\n",
    "clf.fit(X_train, y_train, eval_set=[(X_train, y_train), (X_valid, y_valid)], verbose=100, early_stopping_rounds=100,eval_metric='RMSE')\n",
    "predictions_lgb = clf.predict(X_valid)\n",
    "print(f\"RMSLE is: {np.sqrt(mean_squared_log_error(np.expm1(y_valid), np.expm1(predictions_lgb)))}\")\n"
   ]
  },
  {
   "cell_type": "code",
   "execution_count": 71,
   "metadata": {},
   "outputs": [],
   "source": [
    "#lets see how randomforest will fair\n",
    "model = RandomForestRegressor(random_state=42)"
   ]
  },
  {
   "cell_type": "code",
   "execution_count": 83,
   "metadata": {},
   "outputs": [
    {
     "data": {
      "text/plain": [
       "[<matplotlib.lines.Line2D at 0x1cfbab46f08>]"
      ]
     },
     "execution_count": 83,
     "metadata": {},
     "output_type": "execute_result"
    },
    {
     "data": {
      "image/png": "[encoded data removed]",
      "text/plain": [
       "<Figure size 432x288 with 1 Axes>"
      ]
     },
     "metadata": {
      "needs_background": "light"
     },
     "output_type": "display_data"
    }
   ],
   "source": [
    "estimators =[50]\n",
    "RMSLE = []\n",
    "for n in estimators:\n",
    "    model.set_params(n_estimators=n)\n",
    "    model.fit(X_train, y_train)\n",
    "    predictions_rf=model.predict(X_valid)\n",
    "    RMSLE.append(np.sqrt(mean_squared_log_error(np.expm1(y_valid), np.expm1(predictions_rf))))\n",
    "plt.title(\"Effect of n_estimators\")\n",
    "plt.xlabel(\"n_estimator\")\n",
    "plt.ylabel(\"RMSLE\")\n",
    "plt.plot(estimators, RMSLE)"
   ]
  },
  {
   "cell_type": "code",
   "execution_count": 84,
   "metadata": {},
   "outputs": [
    {
     "data": {
      "text/plain": [
       "[0.43261675502252905]"
      ]
     },
     "execution_count": 84,
     "metadata": {},
     "output_type": "execute_result"
    }
   ],
   "source": [
    "RMSLE"
   ]
  },
  {
   "cell_type": "code",
   "execution_count": 48,
   "metadata": {},
   "outputs": [
    {
     "name": "stdout",
     "output_type": "stream",
     "text": [
      ">clf 0.698 (0.016)\n",
      ">lgb 0.706 (0.017)\n",
      ">rf 0.717 (0.024)\n"
     ]
    }
   ],
   "source": [
    "# get a stacking ensemble of models\n",
    "from xgboost import XGBRegressor\n",
    "from sklearn.ensemble import RandomForestRegressor,GradientBoostingRegressor\n",
    "from lightgbm import LGBMRegressor\n",
    "from sklearn.linear_model import LinearRegression\n",
    "from sklearn.model_selection import cross_val_score\n",
    "from sklearn.model_selection import RepeatedKFold\n",
    "from sklearn.ensemble import StackingRegressor\n",
    "#def get_stacking():\n",
    "    # define the base models\n",
    "   # level0 = list()\n",
    "   # level0.append(('clf', XGBRegressor(n_estimators=468)))\n",
    "   # level0.append(('lgb', LGBMRegressor(n_estimators=107)))\n",
    "    #level0.append(('rf', RandomForestRegressor(n_estimators=50)))\n",
    "    # define meta learner model\n",
    "    #level1 = LinearRegression()\n",
    "    # define the stacking ensemble\n",
    "    #model = StackingRegressor(estimators=level0, final_estimator=level1, cv=5)\n",
    "    #return model\n",
    "\n",
    "# get a list of models to compare with the stack\n",
    "def get_models():\n",
    "    models = dict()\n",
    "    models['clf'] = XGBRegressor(n_esimators=468)\n",
    "    models['lgb'] = LGBMRegressor(n_estimators=107)\n",
    "    models['rf'] = RandomForestRegressor(n_estimators=50)\n",
    "    #models['stacking'] = get_stacking()\n",
    "    return models\n",
    "\n",
    "#evaluation should be done on the full data wen you are applying stacking \n",
    "def evaluate_model(model):\n",
    "    cv = RepeatedKFold(n_splits=5, n_repeats=2, random_state=42)#\n",
    "    scores = cross_val_score(model, final_train, target, scoring=None, cv=cv, n_jobs=-1, error_score='raise')#for regression, None takes rmse score\n",
    "    return scores\n",
    "#we did crossval_score on total_data... that was a huge mistake\n",
    "models = get_models()\n",
    "# evaluate the models and store results\n",
    "results, names = list(), list()\n",
    "for name, model in models.items():\n",
    "    scores = evaluate_model(model)\n",
    "    results.append(scores)\n",
    "    names.append(name)\n",
    "    print('>%s %.3f (%.3f)' % (name, mean(scores), std(scores)))\n",
    "\n",
    "\n",
    "\n"
   ]
  },
  {
   "cell_type": "code",
   "execution_count": 50,
   "metadata": {},
   "outputs": [
    {
     "data": {
      "image/png": "[encoded data removed]",
      "text/plain": [
       "<Figure size 432x288 with 1 Axes>"
      ]
     },
     "metadata": {
      "needs_background": "light"
     },
     "output_type": "display_data"
    }
   ],
   "source": [
    "from matplotlib import pyplot\n",
    "# plot model performance for comparison\n",
    "pyplot.boxplot(results, labels=names, showmeans=True)\n",
    "pyplot.show()"
   ]
  },
  {
   "cell_type": "code",
   "execution_count": 51,
   "metadata": {},
   "outputs": [],
   "source": [
    "#we woud be using random forest to make our predictions\n",
    "rf_pred=RandomForestRegressor(n_estimators=50)"
   ]
  },
  {
   "cell_type": "code",
   "execution_count": 53,
   "metadata": {},
   "outputs": [
    {
     "data": {
      "text/plain": [
       "RandomForestRegressor(bootstrap=True, ccp_alpha=0.0, criterion='mse',\n",
       "                      max_depth=None, max_features='auto', max_leaf_nodes=None,\n",
       "                      max_samples=None, min_impurity_decrease=0.0,\n",
       "                      min_impurity_split=None, min_samples_leaf=1,\n",
       "                      min_samples_split=2, min_weight_fraction_leaf=0.0,\n",
       "                      n_estimators=50, n_jobs=None, oob_score=False,\n",
       "                      random_state=None, verbose=0, warm_start=False)"
      ]
     },
     "execution_count": 53,
     "metadata": {},
     "output_type": "execute_result"
    }
   ],
   "source": [
    "rf_pred.fit(final_train,target)#use modes['rf'] to predict next time and for stacking, use model['stacking'] "
   ]
  },
  {
   "cell_type": "code",
   "execution_count": 59,
   "metadata": {},
   "outputs": [
    {
     "data": {
      "text/plain": [
       "array([ 8.88588823,  9.22705632,  9.57911416, 10.62109321,  8.56331243,\n",
       "       10.25812017,  9.71662622,  9.4225852 ,  9.57594795,  9.85164345,\n",
       "        9.66021368,  9.36315248,  9.58465124,  9.53707206, 10.9703329 ,\n",
       "        8.72521776,  9.77780658,  9.07539111,  8.37233918,  9.84548805,\n",
       "       10.34315265,  9.12040815, 10.0107286 ,  9.57311032,  9.40584675,\n",
       "        9.89157868,  9.59230043,  9.94239036, 10.54490947,  7.86996684,\n",
       "        9.62963601,  9.4319219 , 10.49990668,  9.50374213,  9.8164435 ,\n",
       "       11.09281334,  9.67005853,  9.65012175,  9.48364973,  9.93008486,\n",
       "        9.45080461, 10.72701759,  8.51561131,  9.63157973,  8.78610629,\n",
       "        8.45787482,  9.98759508,  8.41284319,  9.40298303,  8.88802153,\n",
       "        8.8021037 , 10.60614481,  9.2646606 ,  8.63172838, 11.02986128,\n",
       "       10.06423375,  9.42589456,  9.75735602, 10.08574429,  8.44326468,\n",
       "        8.63317783,  9.65673477,  8.81507998, 10.89750279, 10.71843116,\n",
       "       11.31061891, 10.28695079, 10.0894839 ,  9.65209131,  8.97109336,\n",
       "        9.86280967,  9.99973781,  9.81693298,  8.02386706,  9.58942308,\n",
       "        9.92259465,  9.27388906, 10.49009196, 10.55167332,  9.9748584 ,\n",
       "        9.43968011, 10.05542043,  9.51853529, 11.20502331, 11.22948012,\n",
       "        9.10525018, 10.43892442, 11.3030762 ,  9.40902142, 10.24972017,\n",
       "        9.9402711 , 10.04203983,  8.92364209,  9.5625932 ,  8.7816151 ,\n",
       "       10.37954221,  8.74273708,  9.82310534,  9.92044549, 10.39674258,\n",
       "       10.40993031,  9.62472057,  9.35354206,  9.52741516, 10.67120826,\n",
       "        9.42957344,  9.43347004,  9.81054446,  8.14542707, 10.41710484,\n",
       "       10.38995277,  9.38862727,  9.88199323, 10.93192237, 10.38767201,\n",
       "       10.02915471,  9.45396009, 11.1239    ,  9.39787107, 11.06706687,\n",
       "       10.46219616, 11.12889689,  9.97960762,  9.20918768,  8.63807631,\n",
       "        8.76403903, 10.29084414,  9.13118925,  9.70182687,  8.8838944 ,\n",
       "       10.20481568,  9.55078401, 10.07299378,  8.47070193,  9.6692367 ,\n",
       "        8.78450368, 10.02652125,  9.46602735,  9.49660776, 10.71590735,\n",
       "        9.34186713,  9.91300217, 10.18158432, 10.67467976, 10.80698702,\n",
       "       10.27365041, 11.10262476, 10.59455199,  9.77550575, 11.14138398,\n",
       "        9.71649871,  9.34037703,  9.52052033,  8.94080713, 11.20312214,\n",
       "       11.1086209 ,  9.34746094, 11.221269  ,  9.97486826,  8.55767487,\n",
       "        9.46525753, 10.47797672,  8.4688391 ,  9.52521001, 10.80294218,\n",
       "        9.52895873,  8.46054808,  9.73863906,  9.3515681 ,  9.51386344,\n",
       "        9.50679694, 10.15826396,  9.5364132 ,  9.92578066, 10.00776483,\n",
       "        9.61137743,  9.51062404,  9.70935203, 10.5670927 ,  8.37784991,\n",
       "       10.9691665 ,  8.34890464,  9.58238482,  8.68549249, 10.75969087,\n",
       "        9.65577049,  8.32959278,  8.20296953, 10.61825298,  9.98550775,\n",
       "        9.83859848, 10.07155432,  9.58780003,  9.97050255,  8.97546495,\n",
       "       10.19623856, 11.04631012,  9.46285161, 10.25533956, 10.6822417 ,\n",
       "        9.65209131, 10.02493289,  8.78698106, 10.20350415,  9.58633798,\n",
       "       11.07118166,  9.73739756, 10.18295291, 10.88722064,  8.44712066,\n",
       "        9.61294238,  9.2280238 ,  9.52769776,  9.24773222,  9.99362103,\n",
       "        9.86000189,  9.9906656 , 10.2522631 ,  8.95389151, 11.21686471,\n",
       "       10.03244328,  9.49690497,  9.48355214, 10.90103798,  9.40247988,\n",
       "        9.70935203,  9.94305364,  9.59818255,  9.34381388,  8.84309139,\n",
       "       10.32336456,  9.59314091,  9.16553763, 10.08755689, 11.1980577 ,\n",
       "        8.65549998,  9.40902142, 10.16816947,  9.22743503,  8.9579028 ,\n",
       "       10.12654858,  9.45903863,  9.53678963, 10.36609249, 11.33938716,\n",
       "       10.0452181 , 10.04623229,  9.72211877,  9.60263831,  9.50458642,\n",
       "        9.56522896, 10.12065376,  7.87260441,  9.99119497,  9.54538225,\n",
       "        8.20729957,  9.57359645, 10.79383419, 10.35319048,  9.51216091,\n",
       "        9.38842516, 10.84707472, 10.93736219, 10.33251852, 10.49448816,\n",
       "        9.69567747, 10.04291427,  8.37544219, 10.01799271,  9.72186202,\n",
       "       10.32364981, 10.16364884,  9.41670594,  9.10761764, 10.64539701,\n",
       "        9.8271726 ,  9.58938918,  9.52459621, 11.03866849, 10.26335786,\n",
       "        9.66601273,  9.89840649,  9.45507343,  9.63383666, 11.07298477,\n",
       "        9.65987134,  9.60012993,  9.98759508,  9.8769285 , 10.24830504,\n",
       "        9.64301882, 10.24751152,  9.84051109,  9.7575733 , 10.34147585,\n",
       "        9.60015977, 10.03183066,  7.89157926,  9.53467529,  9.48232496,\n",
       "       10.1785222 , 11.17683778,  8.47861777, 10.33143886,  9.98318914,\n",
       "       10.1885473 , 10.02778853,  9.50266769,  9.96243212,  9.42203082,\n",
       "        9.85761823,  9.14224348,  9.73863906,  9.47867768,  9.51702641,\n",
       "        9.38532611,  9.90565273,  9.42626471,  8.77591926, 10.62724955,\n",
       "        9.68532865,  9.80489926, 10.29584506, 10.67736295,  8.23454585,\n",
       "        8.85122662, 10.77853943,  9.79160568,  9.51275089,  9.8020795 ,\n",
       "       10.95464809,  8.18181681,  9.35563745, 10.23669924, 10.60935302,\n",
       "        8.27884667, 10.36888063,  9.62348296,  9.68263072,  8.84596782,\n",
       "        9.68533337,  9.72922363, 11.22545588,  9.56379884,  9.94205179,\n",
       "        9.7378435 , 10.19579134,  8.38928694,  8.34405416, 10.62317446,\n",
       "        9.55776521,  9.82264872,  7.91192812,  9.44657445,  8.85317324,\n",
       "       10.45432966,  9.5972232 ,  8.66836905,  9.69173877,  9.62062793,\n",
       "        9.62708977,  8.57522761, 10.60614481, 10.03630967, 11.26275644,\n",
       "        9.35289496,  9.5458538 ,  9.26167448,  9.80231966,  8.92940015,\n",
       "       10.32122253, 10.58513889, 11.22100867,  8.47760758,  9.40298303,\n",
       "        9.81353102, 11.10842481,  9.89604519,  7.85691942,  9.11652992,\n",
       "        9.19153598,  9.71097843, 10.06911389,  8.97159305,  9.53754462,\n",
       "       11.06295687, 10.14938915,  8.31379536, 10.77756983, 10.84827654,\n",
       "       11.04390923, 10.97848877,  9.35441936,  9.5606293 ,  8.16413104,\n",
       "        8.37715046,  9.65209131,  9.94810201,  9.57437613,  9.84747295,\n",
       "        9.54418289, 10.63394293, 10.03244328, 11.25179975,  9.42335617,\n",
       "        9.71262021,  9.70477173, 10.6005459 , 10.12801822,  9.99973781,\n",
       "        9.86324425, 10.35074734,  9.54132631, 11.1365463 ,  9.62906359,\n",
       "       10.04782955, 11.43578238,  9.1220706 ,  8.79934053,  9.93594848,\n",
       "        9.57295971,  9.44775798, 10.48634531,  9.59314091, 10.10879585,\n",
       "        9.37628309,  9.45577075,  9.83998341,  9.30806879,  9.85208609,\n",
       "        9.82264872,  9.77708242,  9.07197887, 10.29304515,  9.95598526,\n",
       "        9.63234383,  9.48868593,  9.70097908,  8.41811796, 11.30314344,\n",
       "        9.97643981, 10.11349794,  9.59404835, 11.13845903,  8.60991811,\n",
       "       10.09463507, 10.72307423, 11.18760903,  8.41004957,  9.57460746,\n",
       "       10.29280464, 11.26870918,  9.51194811,  9.51345717,  9.53872004,\n",
       "       10.26142797, 11.42771966, 10.65854569,  9.3721969 , 10.61605383,\n",
       "        8.47118311,  8.89778088,  9.75322126, 10.3832036 , 10.18708466,\n",
       "        9.77160402,  8.25867047,  9.52314644,  9.44821148, 11.2820458 ,\n",
       "        9.30806879,  9.78011216, 10.08978512,  9.57404419,  9.57460746,\n",
       "       11.20109708, 11.0356629 ,  9.11221471,  9.73863906,  9.79499572,\n",
       "       11.20062058,  9.62198268,  9.69499112,  9.69225125, 10.98875508,\n",
       "        9.76475743, 11.04182682, 10.77644916, 10.49465494,  9.07686421,\n",
       "       10.64374961, 10.20041514, 10.01667574, 10.19847273,  9.25083592,\n",
       "        9.54375284, 10.61772175, 11.52645853, 11.24665045,  9.48657914,\n",
       "        9.97656134,  7.94512212,  9.5416822 ,  9.40765949,  9.79953529,\n",
       "       10.62976597,  9.41393573,  9.9770707 ,  9.4727798 ,  8.34913505,\n",
       "        9.08706519,  9.45550449, 10.27212841,  9.82528667,  9.27780213,\n",
       "       10.15349398,  9.71327469,  9.41239535, 10.29109068, 10.7873299 ,\n",
       "       10.38016517,  9.03221907, 10.25666073, 10.75770514, 10.40163074,\n",
       "        8.08745382, 10.28598885,  9.35502565,  8.98361397,  9.92044549,\n",
       "        8.97312958,  9.61113582, 11.13486094,  9.67807448,  9.57460746,\n",
       "        9.95356887, 10.9492037 ,  9.55689552, 10.10040018,  9.30672221,\n",
       "        9.93796422, 10.12754571, 10.82549955,  9.90243088, 10.61516384,\n",
       "       11.19799104,  9.34094901, 11.29160769, 10.16076869,  9.16235171,\n",
       "       10.65860532,  9.09658896,  9.53612077, 10.4910035 , 10.91383253,\n",
       "        9.67502303, 10.12820866,  8.10205537,  9.91017006, 10.60667923,\n",
       "        8.42708912, 11.54556995,  9.47246352,  9.05326906,  9.51173829,\n",
       "        9.3916272 ,  9.58716193,  8.41204459, 10.66735332, 10.23765457,\n",
       "        8.65917953,  8.5970816 ,  9.92362591, 10.73147987, 10.07722835,\n",
       "        9.16275969, 10.77432105, 10.65050964, 10.36094601,  9.78185992,\n",
       "        9.49981778, 10.62138356,  9.81467078,  9.89100076,  9.57416988,\n",
       "        8.56200135,  9.37597665, 10.15279271,  9.59441292, 10.06180896,\n",
       "        8.54554984, 10.03080354,  9.57710215, 10.6600823 , 10.13075433,\n",
       "        8.44848753, 10.04868066, 10.80183048,  9.94793955,  9.85000459,\n",
       "       10.79325269, 10.59017063, 11.16694219, 10.83900899,  9.51535944,\n",
       "       11.2654205 ,  9.99813634,  9.63136873, 10.1601751 ,  9.69377415,\n",
       "        8.81260535,  9.55794928, 10.25830679,  9.52348214,  9.71782303,\n",
       "       10.66966388,  9.37944749, 11.2701634 ,  8.67339042,  8.64700555,\n",
       "        9.68173334, 10.72297859, 10.15016307,  9.38634623, 10.0409916 ,\n",
       "        9.5175171 , 10.25153942,  9.54319066,  9.45507343, 10.16076869,\n",
       "       10.14703562, 10.71285146,  9.82069588,  8.51571327,  9.74513468,\n",
       "       10.00080098,  9.77376677,  8.8940367 ,  9.88472964,  9.46013859,\n",
       "       10.58238892,  9.58599574, 10.66310931,  9.87238627,  9.83876904,\n",
       "       11.03163981,  9.56372995, 10.0951779 ,  9.73055805,  9.98403667,\n",
       "       10.26767169, 11.57921007, 11.1033867 , 10.6721855 ,  9.62244348,\n",
       "        9.86157138,  9.85353483,  9.80089517,  9.40626149, 10.03565151,\n",
       "       10.43536775, 10.74182729,  8.91937316, 11.09043824,  9.42422975,\n",
       "        9.8301672 ,  8.52252519, 10.1692347 , 10.33796703, 11.31784968,\n",
       "        9.61299046,  9.61614788,  9.96944453,  9.41290336,  9.22277781,\n",
       "       11.0682686 ,  9.30075613,  9.63451188,  9.27282577,  9.70117242,\n",
       "       10.45060953, 10.17820908,  9.56550958,  8.34591825, 11.3162886 ,\n",
       "        9.76797175, 10.31348392,  9.78312155,  9.94049313, 10.03948015,\n",
       "        9.99884982,  8.79300671,  9.9871073 ,  9.56687896,  9.83750525,\n",
       "       10.14025828,  9.48666472, 11.04074456,  9.95413184, 10.26799585,\n",
       "        8.50297067,  9.83419546,  8.69870182,  9.89790889, 10.7362864 ,\n",
       "       10.06773917,  9.63620891,  9.5301131 ,  9.95914446,  8.25269729,\n",
       "        9.52817632,  9.38865008,  9.51450322,  8.58082972,  9.2467358 ,\n",
       "        9.53212295,  9.48530382,  9.51617815,  9.54787591,  9.99475015,\n",
       "       10.97968678,  8.73214313, 11.14797117,  9.86083806,  9.55879028,\n",
       "        9.50861496,  9.52025847, 10.61772175, 10.0209376 ,  9.03008001,\n",
       "        9.51603494,  9.91993779, 10.80294218,  9.99973781,  9.72646485,\n",
       "       10.15990141, 11.02343416, 10.0174216 , 10.16076869,  9.89290973,\n",
       "        9.55611467,  8.69803195,  9.25640926, 10.01820018, 10.81898076,\n",
       "        9.76018719,  9.44820679,  8.2590366 ,  9.9280679 ,  8.87553073,\n",
       "        9.39534245, 11.32995213, 10.76805834,  9.52780353,  7.76500988,\n",
       "       10.09961009,  9.1818782 ,  8.45158763,  9.41607134, 11.24918186,\n",
       "        9.70935203, 10.13883777,  8.35156861,  9.82500129,  9.30458956,\n",
       "        8.77876266,  8.40139172,  9.56141607, 11.34995785,  9.81009117,\n",
       "        9.20908028, 10.25640475,  9.98029914,  8.85122662, 10.87008245,\n",
       "       10.64927213,  8.65672319, 10.40591214,  9.3756885 , 10.22531205,\n",
       "       10.29423539, 10.2312008 , 10.30955366, 10.6073245 , 10.3644042 ,\n",
       "       10.07093011,  9.54065341, 10.17065536,  9.84703913,  9.96474378,\n",
       "       10.11356957,  8.82359891,  8.94243729,  9.67990294, 11.35808839,\n",
       "        9.45987852,  9.55984215, 11.10270987,  8.81249836,  9.82359943,\n",
       "        9.46642896,  9.89728772,  9.66708609, 10.03708979,  9.5265371 ,\n",
       "        9.42880097,  9.8006147 ,  9.82500129,  8.44114838, 10.75847231,\n",
       "       10.33995817,  9.85761823,  9.79402929, 10.09318983, 10.09318184,\n",
       "        9.69230114, 10.25310508, 10.01713421, 11.29517884,  9.48455602,\n",
       "        9.55200416,  9.85767545,  8.74562319,  9.21876665, 11.0365576 ,\n",
       "       10.02630295,  9.77765986,  9.53432516, 11.05867318,  9.35059784,\n",
       "        9.59290574, 10.05100657, 10.08218258, 10.07880161,  9.82974214,\n",
       "        9.73837065,  9.56069446, 10.10795011, 10.1660953 ,  9.57136295,\n",
       "       10.08777214,  9.48522371,  9.77801442,  8.62764104, 10.73276932,\n",
       "        9.80089517,  9.75413606, 11.12234555,  9.55625511,  9.39653445,\n",
       "        9.93941172,  9.52013015, 10.38593772,  8.84395851,  9.93385128,\n",
       "        9.57646714, 10.50205473,  9.47932845, 10.45568819,  9.83261131,\n",
       "        9.13007101, 10.2564093 ,  8.67757117,  9.29424455,  8.22369209,\n",
       "        8.96845851,  9.51426908,  9.49735433, 11.19343619, 10.23013061,\n",
       "        9.407777  ,  8.82107769,  9.70943686, 10.16534327,  9.51716779,\n",
       "        9.93866449, 10.29126478,  8.70083634,  9.06758447,  9.66100326,\n",
       "        9.26863549, 10.24705483, 10.52904643,  8.98847881,  9.84659698,\n",
       "       11.09621336, 10.13440607, 10.0445366 , 10.07929007, 11.08843304,\n",
       "       10.42205123,  9.93014901,  9.41433423, 10.22414055, 10.81426477,\n",
       "        9.95057008, 10.61397014,  9.502697  , 10.74444952,  9.82535861,\n",
       "       10.1128669 , 10.14883225,  8.86375482, 10.053818  ,  8.78069655,\n",
       "        9.95036227,  9.61426959,  8.82789404,  9.68875715,  9.26772419,\n",
       "       10.03605224, 10.59421023, 10.14033358, 11.23487427,  9.93520897,\n",
       "       10.2337081 , 11.18285336,  9.63319343, 11.10010034,  8.71736869,\n",
       "       11.13851572,  9.95057008,  9.4517973 ,  8.31204067, 10.1577824 ,\n",
       "        9.52032869, 10.28974504,  9.67170936,  9.00392933,  9.38199951,\n",
       "        9.3828991 ,  9.57178918, 10.74655893,  9.56573627,  8.82756418,\n",
       "       11.11665259, 10.07928376,  9.58650789,  9.88719841,  9.06205584,\n",
       "        8.84869909,  9.63858538,  9.89112048, 10.51601616,  9.32159839,\n",
       "        9.912996  ,  9.55834878,  9.65209131,  8.8999311 , 10.22692964,\n",
       "        8.22024148,  9.92136669, 11.29140834,  9.65308359,  8.82570594,\n",
       "        9.365037  ,  9.7507101 ,  9.52006613, 10.30468166,  9.99753025,\n",
       "       10.64492761,  9.82844599,  9.8456505 , 10.24661204,  9.49021636,\n",
       "       10.7880934 ,  9.61363282, 11.30488088,  9.77765986, 10.1370453 ,\n",
       "       11.31663934, 10.7947681 , 10.17822698,  9.59752798,  8.21841011,\n",
       "       10.25430798, 10.49342707,  8.65962242, 10.64590359, 10.34755175,\n",
       "       11.02843588, 10.42002235,  9.36951648,  9.35311488,  9.69742757,\n",
       "       10.83013885,  9.62185763,  9.5129833 ,  9.64749618, 10.21870843,\n",
       "        9.82529568,  9.4992432 ,  9.85978944, 10.09187314,  9.60538118,\n",
       "        9.64520315, 10.26781473])"
      ]
     },
     "execution_count": 59,
     "metadata": {},
     "output_type": "execute_result"
    }
   ],
   "source": [
    "rf_pred.predict(final_test)"
   ]
  },
  {
   "cell_type": "code",
   "execution_count": 63,
   "metadata": {},
   "outputs": [],
   "source": [
    "rf_predi=np.exp(rf_pred.predict(final_test))"
   ]
  },
  {
   "cell_type": "code",
   "execution_count": 64,
   "metadata": {},
   "outputs": [],
   "source": [
    "output=pd.DataFrame({'Price':rf_predi})\n",
    "output.to_csv('submitted_new.csv',index=False)"
   ]
  },
  {
   "cell_type": "code",
   "execution_count": 65,
   "metadata": {},
   "outputs": [],
   "source": [
    "subm=pd.read_csv('submitted_new.csv')"
   ]
  },
  {
   "cell_type": "code",
   "execution_count": 66,
   "metadata": {},
   "outputs": [
    {
     "data": {
      "text/html": [
       "<div>\n",
       "<style scoped>\n",
       "    .dataframe tbody tr th:only-of-type {\n",
       "        vertical-align: middle;\n",
       "    }\n",
       "\n",
       "    .dataframe tbody tr th {\n",
       "        vertical-align: top;\n",
       "    }\n",
       "\n",
       "    .dataframe thead th {\n",
       "        text-align: right;\n",
       "    }\n",
       "</style>\n",
       "<table border=\"1\" class=\"dataframe\">\n",
       "  <thead>\n",
       "    <tr style=\"text-align: right;\">\n",
       "      <th></th>\n",
       "      <th>Price</th>\n",
       "    </tr>\n",
       "  </thead>\n",
       "  <tbody>\n",
       "    <tr>\n",
       "      <th>0</th>\n",
       "      <td>7229.233022</td>\n",
       "    </tr>\n",
       "    <tr>\n",
       "      <th>1</th>\n",
       "      <td>10168.564422</td>\n",
       "    </tr>\n",
       "    <tr>\n",
       "      <th>2</th>\n",
       "      <td>14459.604751</td>\n",
       "    </tr>\n",
       "    <tr>\n",
       "      <th>3</th>\n",
       "      <td>40990.401616</td>\n",
       "    </tr>\n",
       "    <tr>\n",
       "      <th>4</th>\n",
       "      <td>5235.996359</td>\n",
       "    </tr>\n",
       "  </tbody>\n",
       "</table>\n",
       "</div>"
      ],
      "text/plain": [
       "          Price\n",
       "0   7229.233022\n",
       "1  10168.564422\n",
       "2  14459.604751\n",
       "3  40990.401616\n",
       "4   5235.996359"
      ]
     },
     "execution_count": 66,
     "metadata": {},
     "output_type": "execute_result"
    }
   ],
   "source": [
    "subm.head()"
   ]
  },
  {
   "cell_type": "code",
   "execution_count": 24,
   "metadata": {},
   "outputs": [
    {
     "ename": "ValueError",
     "evalue": "DataFrame.dtypes for data must be int, float or bool.\n                Did not expect the data types in fields Model_Info, Additional_Description",
     "output_type": "error",
     "traceback": [
      "\u001b[1;31m---------------------------------------------------------------------------\u001b[0m",
      "\u001b[1;31mValueError\u001b[0m                                Traceback (most recent call last)",
      "\u001b[1;32m<ipython-input-24-2fc9291a1277>\u001b[0m in \u001b[0;36m<module>\u001b[1;34m\u001b[0m\n\u001b[0;32m     12\u001b[0m \u001b[1;33m\u001b[0m\u001b[0m\n\u001b[0;32m     13\u001b[0m \u001b[0mmodels\u001b[0m\u001b[1;33m=\u001b[0m\u001b[0mget_stacking\u001b[0m\u001b[1;33m(\u001b[0m\u001b[1;33m)\u001b[0m\u001b[1;33m\u001b[0m\u001b[1;33m\u001b[0m\u001b[0m\n\u001b[1;32m---> 14\u001b[1;33m \u001b[0mmodels\u001b[0m\u001b[1;33m.\u001b[0m\u001b[0mfit\u001b[0m\u001b[1;33m(\u001b[0m\u001b[0mtrain_data\u001b[0m\u001b[1;33m,\u001b[0m \u001b[0mtarget\u001b[0m\u001b[1;33m)\u001b[0m\u001b[1;31m#the fit is called on all the data....\u001b[0m\u001b[1;33m\u001b[0m\u001b[1;33m\u001b[0m\u001b[0m\n\u001b[0m\u001b[0;32m     15\u001b[0m \u001b[0mmodel_pred\u001b[0m \u001b[1;33m=\u001b[0m \u001b[0mmodels\u001b[0m\u001b[1;33m.\u001b[0m\u001b[0mpredict\u001b[0m\u001b[1;33m(\u001b[0m\u001b[0mfinal_test\u001b[0m\u001b[1;33m)\u001b[0m\u001b[1;33m\u001b[0m\u001b[1;33m\u001b[0m\u001b[0m\n\u001b[0;32m     16\u001b[0m \u001b[0mprint\u001b[0m\u001b[1;33m(\u001b[0m\u001b[0mmodels\u001b[0m\u001b[1;33m.\u001b[0m\u001b[0mscore\u001b[0m\u001b[1;33m(\u001b[0m\u001b[0mX_train\u001b[0m\u001b[1;33m,\u001b[0m \u001b[0my_train\u001b[0m\u001b[1;33m)\u001b[0m\u001b[1;33m)\u001b[0m\u001b[1;33m\u001b[0m\u001b[1;33m\u001b[0m\u001b[0m\n",
      "\u001b[1;32m~\\anaconda3\\lib\\site-packages\\sklearn\\ensemble\\_stacking.py\u001b[0m in \u001b[0;36mfit\u001b[1;34m(self, X, y, sample_weight)\u001b[0m\n\u001b[0;32m    641\u001b[0m         \"\"\"\n\u001b[0;32m    642\u001b[0m         \u001b[0my\u001b[0m \u001b[1;33m=\u001b[0m \u001b[0mcolumn_or_1d\u001b[0m\u001b[1;33m(\u001b[0m\u001b[0my\u001b[0m\u001b[1;33m,\u001b[0m \u001b[0mwarn\u001b[0m\u001b[1;33m=\u001b[0m\u001b[1;32mTrue\u001b[0m\u001b[1;33m)\u001b[0m\u001b[1;33m\u001b[0m\u001b[1;33m\u001b[0m\u001b[0m\n\u001b[1;32m--> 643\u001b[1;33m         \u001b[1;32mreturn\u001b[0m \u001b[0msuper\u001b[0m\u001b[1;33m(\u001b[0m\u001b[1;33m)\u001b[0m\u001b[1;33m.\u001b[0m\u001b[0mfit\u001b[0m\u001b[1;33m(\u001b[0m\u001b[0mX\u001b[0m\u001b[1;33m,\u001b[0m \u001b[0my\u001b[0m\u001b[1;33m,\u001b[0m \u001b[0msample_weight\u001b[0m\u001b[1;33m)\u001b[0m\u001b[1;33m\u001b[0m\u001b[1;33m\u001b[0m\u001b[0m\n\u001b[0m\u001b[0;32m    644\u001b[0m \u001b[1;33m\u001b[0m\u001b[0m\n\u001b[0;32m    645\u001b[0m     \u001b[1;32mdef\u001b[0m \u001b[0mtransform\u001b[0m\u001b[1;33m(\u001b[0m\u001b[0mself\u001b[0m\u001b[1;33m,\u001b[0m \u001b[0mX\u001b[0m\u001b[1;33m)\u001b[0m\u001b[1;33m:\u001b[0m\u001b[1;33m\u001b[0m\u001b[1;33m\u001b[0m\u001b[0m\n",
      "\u001b[1;32m~\\anaconda3\\lib\\site-packages\\sklearn\\ensemble\\_stacking.py\u001b[0m in \u001b[0;36mfit\u001b[1;34m(self, X, y, sample_weight)\u001b[0m\n\u001b[0;32m    139\u001b[0m         self.estimators_ = Parallel(n_jobs=self.n_jobs)(\n\u001b[0;32m    140\u001b[0m             \u001b[0mdelayed\u001b[0m\u001b[1;33m(\u001b[0m\u001b[0m_parallel_fit_estimator\u001b[0m\u001b[1;33m)\u001b[0m\u001b[1;33m(\u001b[0m\u001b[0mclone\u001b[0m\u001b[1;33m(\u001b[0m\u001b[0mest\u001b[0m\u001b[1;33m)\u001b[0m\u001b[1;33m,\u001b[0m \u001b[0mX\u001b[0m\u001b[1;33m,\u001b[0m \u001b[0my\u001b[0m\u001b[1;33m,\u001b[0m \u001b[0msample_weight\u001b[0m\u001b[1;33m)\u001b[0m\u001b[1;33m\u001b[0m\u001b[1;33m\u001b[0m\u001b[0m\n\u001b[1;32m--> 141\u001b[1;33m             \u001b[1;32mfor\u001b[0m \u001b[0mest\u001b[0m \u001b[1;32min\u001b[0m \u001b[0mall_estimators\u001b[0m \u001b[1;32mif\u001b[0m \u001b[0mest\u001b[0m \u001b[1;33m!=\u001b[0m \u001b[1;34m'drop'\u001b[0m\u001b[1;33m\u001b[0m\u001b[1;33m\u001b[0m\u001b[0m\n\u001b[0m\u001b[0;32m    142\u001b[0m         )\n\u001b[0;32m    143\u001b[0m \u001b[1;33m\u001b[0m\u001b[0m\n",
      "\u001b[1;32m~\\anaconda3\\lib\\site-packages\\joblib\\parallel.py\u001b[0m in \u001b[0;36m__call__\u001b[1;34m(self, iterable)\u001b[0m\n\u001b[0;32m   1002\u001b[0m             \u001b[1;31m# remaining jobs.\u001b[0m\u001b[1;33m\u001b[0m\u001b[1;33m\u001b[0m\u001b[1;33m\u001b[0m\u001b[0m\n\u001b[0;32m   1003\u001b[0m             \u001b[0mself\u001b[0m\u001b[1;33m.\u001b[0m\u001b[0m_iterating\u001b[0m \u001b[1;33m=\u001b[0m \u001b[1;32mFalse\u001b[0m\u001b[1;33m\u001b[0m\u001b[1;33m\u001b[0m\u001b[0m\n\u001b[1;32m-> 1004\u001b[1;33m             \u001b[1;32mif\u001b[0m \u001b[0mself\u001b[0m\u001b[1;33m.\u001b[0m\u001b[0mdispatch_one_batch\u001b[0m\u001b[1;33m(\u001b[0m\u001b[0miterator\u001b[0m\u001b[1;33m)\u001b[0m\u001b[1;33m:\u001b[0m\u001b[1;33m\u001b[0m\u001b[1;33m\u001b[0m\u001b[0m\n\u001b[0m\u001b[0;32m   1005\u001b[0m                 \u001b[0mself\u001b[0m\u001b[1;33m.\u001b[0m\u001b[0m_iterating\u001b[0m \u001b[1;33m=\u001b[0m \u001b[0mself\u001b[0m\u001b[1;33m.\u001b[0m\u001b[0m_original_iterator\u001b[0m \u001b[1;32mis\u001b[0m \u001b[1;32mnot\u001b[0m \u001b[1;32mNone\u001b[0m\u001b[1;33m\u001b[0m\u001b[1;33m\u001b[0m\u001b[0m\n\u001b[0;32m   1006\u001b[0m \u001b[1;33m\u001b[0m\u001b[0m\n",
      "\u001b[1;32m~\\anaconda3\\lib\\site-packages\\joblib\\parallel.py\u001b[0m in \u001b[0;36mdispatch_one_batch\u001b[1;34m(self, iterator)\u001b[0m\n\u001b[0;32m    833\u001b[0m                 \u001b[1;32mreturn\u001b[0m \u001b[1;32mFalse\u001b[0m\u001b[1;33m\u001b[0m\u001b[1;33m\u001b[0m\u001b[0m\n\u001b[0;32m    834\u001b[0m             \u001b[1;32melse\u001b[0m\u001b[1;33m:\u001b[0m\u001b[1;33m\u001b[0m\u001b[1;33m\u001b[0m\u001b[0m\n\u001b[1;32m--> 835\u001b[1;33m                 \u001b[0mself\u001b[0m\u001b[1;33m.\u001b[0m\u001b[0m_dispatch\u001b[0m\u001b[1;33m(\u001b[0m\u001b[0mtasks\u001b[0m\u001b[1;33m)\u001b[0m\u001b[1;33m\u001b[0m\u001b[1;33m\u001b[0m\u001b[0m\n\u001b[0m\u001b[0;32m    836\u001b[0m                 \u001b[1;32mreturn\u001b[0m \u001b[1;32mTrue\u001b[0m\u001b[1;33m\u001b[0m\u001b[1;33m\u001b[0m\u001b[0m\n\u001b[0;32m    837\u001b[0m \u001b[1;33m\u001b[0m\u001b[0m\n",
      "\u001b[1;32m~\\anaconda3\\lib\\site-packages\\joblib\\parallel.py\u001b[0m in \u001b[0;36m_dispatch\u001b[1;34m(self, batch)\u001b[0m\n\u001b[0;32m    752\u001b[0m         \u001b[1;32mwith\u001b[0m \u001b[0mself\u001b[0m\u001b[1;33m.\u001b[0m\u001b[0m_lock\u001b[0m\u001b[1;33m:\u001b[0m\u001b[1;33m\u001b[0m\u001b[1;33m\u001b[0m\u001b[0m\n\u001b[0;32m    753\u001b[0m             \u001b[0mjob_idx\u001b[0m \u001b[1;33m=\u001b[0m \u001b[0mlen\u001b[0m\u001b[1;33m(\u001b[0m\u001b[0mself\u001b[0m\u001b[1;33m.\u001b[0m\u001b[0m_jobs\u001b[0m\u001b[1;33m)\u001b[0m\u001b[1;33m\u001b[0m\u001b[1;33m\u001b[0m\u001b[0m\n\u001b[1;32m--> 754\u001b[1;33m             \u001b[0mjob\u001b[0m \u001b[1;33m=\u001b[0m \u001b[0mself\u001b[0m\u001b[1;33m.\u001b[0m\u001b[0m_backend\u001b[0m\u001b[1;33m.\u001b[0m\u001b[0mapply_async\u001b[0m\u001b[1;33m(\u001b[0m\u001b[0mbatch\u001b[0m\u001b[1;33m,\u001b[0m \u001b[0mcallback\u001b[0m\u001b[1;33m=\u001b[0m\u001b[0mcb\u001b[0m\u001b[1;33m)\u001b[0m\u001b[1;33m\u001b[0m\u001b[1;33m\u001b[0m\u001b[0m\n\u001b[0m\u001b[0;32m    755\u001b[0m             \u001b[1;31m# A job can complete so quickly than its callback is\u001b[0m\u001b[1;33m\u001b[0m\u001b[1;33m\u001b[0m\u001b[1;33m\u001b[0m\u001b[0m\n\u001b[0;32m    756\u001b[0m             \u001b[1;31m# called before we get here, causing self._jobs to\u001b[0m\u001b[1;33m\u001b[0m\u001b[1;33m\u001b[0m\u001b[1;33m\u001b[0m\u001b[0m\n",
      "\u001b[1;32m~\\anaconda3\\lib\\site-packages\\joblib\\_parallel_backends.py\u001b[0m in \u001b[0;36mapply_async\u001b[1;34m(self, func, callback)\u001b[0m\n\u001b[0;32m    207\u001b[0m     \u001b[1;32mdef\u001b[0m \u001b[0mapply_async\u001b[0m\u001b[1;33m(\u001b[0m\u001b[0mself\u001b[0m\u001b[1;33m,\u001b[0m \u001b[0mfunc\u001b[0m\u001b[1;33m,\u001b[0m \u001b[0mcallback\u001b[0m\u001b[1;33m=\u001b[0m\u001b[1;32mNone\u001b[0m\u001b[1;33m)\u001b[0m\u001b[1;33m:\u001b[0m\u001b[1;33m\u001b[0m\u001b[1;33m\u001b[0m\u001b[0m\n\u001b[0;32m    208\u001b[0m         \u001b[1;34m\"\"\"Schedule a func to be run\"\"\"\u001b[0m\u001b[1;33m\u001b[0m\u001b[1;33m\u001b[0m\u001b[0m\n\u001b[1;32m--> 209\u001b[1;33m         \u001b[0mresult\u001b[0m \u001b[1;33m=\u001b[0m \u001b[0mImmediateResult\u001b[0m\u001b[1;33m(\u001b[0m\u001b[0mfunc\u001b[0m\u001b[1;33m)\u001b[0m\u001b[1;33m\u001b[0m\u001b[1;33m\u001b[0m\u001b[0m\n\u001b[0m\u001b[0;32m    210\u001b[0m         \u001b[1;32mif\u001b[0m \u001b[0mcallback\u001b[0m\u001b[1;33m:\u001b[0m\u001b[1;33m\u001b[0m\u001b[1;33m\u001b[0m\u001b[0m\n\u001b[0;32m    211\u001b[0m             \u001b[0mcallback\u001b[0m\u001b[1;33m(\u001b[0m\u001b[0mresult\u001b[0m\u001b[1;33m)\u001b[0m\u001b[1;33m\u001b[0m\u001b[1;33m\u001b[0m\u001b[0m\n",
      "\u001b[1;32m~\\anaconda3\\lib\\site-packages\\joblib\\_parallel_backends.py\u001b[0m in \u001b[0;36m__init__\u001b[1;34m(self, batch)\u001b[0m\n\u001b[0;32m    588\u001b[0m         \u001b[1;31m# Don't delay the application, to avoid keeping the input\u001b[0m\u001b[1;33m\u001b[0m\u001b[1;33m\u001b[0m\u001b[1;33m\u001b[0m\u001b[0m\n\u001b[0;32m    589\u001b[0m         \u001b[1;31m# arguments in memory\u001b[0m\u001b[1;33m\u001b[0m\u001b[1;33m\u001b[0m\u001b[1;33m\u001b[0m\u001b[0m\n\u001b[1;32m--> 590\u001b[1;33m         \u001b[0mself\u001b[0m\u001b[1;33m.\u001b[0m\u001b[0mresults\u001b[0m \u001b[1;33m=\u001b[0m \u001b[0mbatch\u001b[0m\u001b[1;33m(\u001b[0m\u001b[1;33m)\u001b[0m\u001b[1;33m\u001b[0m\u001b[1;33m\u001b[0m\u001b[0m\n\u001b[0m\u001b[0;32m    591\u001b[0m \u001b[1;33m\u001b[0m\u001b[0m\n\u001b[0;32m    592\u001b[0m     \u001b[1;32mdef\u001b[0m \u001b[0mget\u001b[0m\u001b[1;33m(\u001b[0m\u001b[0mself\u001b[0m\u001b[1;33m)\u001b[0m\u001b[1;33m:\u001b[0m\u001b[1;33m\u001b[0m\u001b[1;33m\u001b[0m\u001b[0m\n",
      "\u001b[1;32m~\\anaconda3\\lib\\site-packages\\joblib\\parallel.py\u001b[0m in \u001b[0;36m__call__\u001b[1;34m(self)\u001b[0m\n\u001b[0;32m    254\u001b[0m         \u001b[1;32mwith\u001b[0m \u001b[0mparallel_backend\u001b[0m\u001b[1;33m(\u001b[0m\u001b[0mself\u001b[0m\u001b[1;33m.\u001b[0m\u001b[0m_backend\u001b[0m\u001b[1;33m,\u001b[0m \u001b[0mn_jobs\u001b[0m\u001b[1;33m=\u001b[0m\u001b[0mself\u001b[0m\u001b[1;33m.\u001b[0m\u001b[0m_n_jobs\u001b[0m\u001b[1;33m)\u001b[0m\u001b[1;33m:\u001b[0m\u001b[1;33m\u001b[0m\u001b[1;33m\u001b[0m\u001b[0m\n\u001b[0;32m    255\u001b[0m             return [func(*args, **kwargs)\n\u001b[1;32m--> 256\u001b[1;33m                     for func, args, kwargs in self.items]\n\u001b[0m\u001b[0;32m    257\u001b[0m \u001b[1;33m\u001b[0m\u001b[0m\n\u001b[0;32m    258\u001b[0m     \u001b[1;32mdef\u001b[0m \u001b[0m__len__\u001b[0m\u001b[1;33m(\u001b[0m\u001b[0mself\u001b[0m\u001b[1;33m)\u001b[0m\u001b[1;33m:\u001b[0m\u001b[1;33m\u001b[0m\u001b[1;33m\u001b[0m\u001b[0m\n",
      "\u001b[1;32m~\\anaconda3\\lib\\site-packages\\joblib\\parallel.py\u001b[0m in \u001b[0;36m<listcomp>\u001b[1;34m(.0)\u001b[0m\n\u001b[0;32m    254\u001b[0m         \u001b[1;32mwith\u001b[0m \u001b[0mparallel_backend\u001b[0m\u001b[1;33m(\u001b[0m\u001b[0mself\u001b[0m\u001b[1;33m.\u001b[0m\u001b[0m_backend\u001b[0m\u001b[1;33m,\u001b[0m \u001b[0mn_jobs\u001b[0m\u001b[1;33m=\u001b[0m\u001b[0mself\u001b[0m\u001b[1;33m.\u001b[0m\u001b[0m_n_jobs\u001b[0m\u001b[1;33m)\u001b[0m\u001b[1;33m:\u001b[0m\u001b[1;33m\u001b[0m\u001b[1;33m\u001b[0m\u001b[0m\n\u001b[0;32m    255\u001b[0m             return [func(*args, **kwargs)\n\u001b[1;32m--> 256\u001b[1;33m                     for func, args, kwargs in self.items]\n\u001b[0m\u001b[0;32m    257\u001b[0m \u001b[1;33m\u001b[0m\u001b[0m\n\u001b[0;32m    258\u001b[0m     \u001b[1;32mdef\u001b[0m \u001b[0m__len__\u001b[0m\u001b[1;33m(\u001b[0m\u001b[0mself\u001b[0m\u001b[1;33m)\u001b[0m\u001b[1;33m:\u001b[0m\u001b[1;33m\u001b[0m\u001b[1;33m\u001b[0m\u001b[0m\n",
      "\u001b[1;32m~\\anaconda3\\lib\\site-packages\\sklearn\\ensemble\\_base.py\u001b[0m in \u001b[0;36m_parallel_fit_estimator\u001b[1;34m(estimator, X, y, sample_weight)\u001b[0m\n\u001b[0;32m     34\u001b[0m             \u001b[1;32mraise\u001b[0m\u001b[1;33m\u001b[0m\u001b[1;33m\u001b[0m\u001b[0m\n\u001b[0;32m     35\u001b[0m     \u001b[1;32melse\u001b[0m\u001b[1;33m:\u001b[0m\u001b[1;33m\u001b[0m\u001b[1;33m\u001b[0m\u001b[0m\n\u001b[1;32m---> 36\u001b[1;33m         \u001b[0mestimator\u001b[0m\u001b[1;33m.\u001b[0m\u001b[0mfit\u001b[0m\u001b[1;33m(\u001b[0m\u001b[0mX\u001b[0m\u001b[1;33m,\u001b[0m \u001b[0my\u001b[0m\u001b[1;33m)\u001b[0m\u001b[1;33m\u001b[0m\u001b[1;33m\u001b[0m\u001b[0m\n\u001b[0m\u001b[0;32m     37\u001b[0m     \u001b[1;32mreturn\u001b[0m \u001b[0mestimator\u001b[0m\u001b[1;33m\u001b[0m\u001b[1;33m\u001b[0m\u001b[0m\n\u001b[0;32m     38\u001b[0m \u001b[1;33m\u001b[0m\u001b[0m\n",
      "\u001b[1;32m~\\anaconda3\\lib\\site-packages\\xgboost\\sklearn.py\u001b[0m in \u001b[0;36mfit\u001b[1;34m(self, X, y, sample_weight, eval_set, eval_metric, early_stopping_rounds, verbose, xgb_model, sample_weight_eval_set, callbacks)\u001b[0m\n\u001b[0;32m    358\u001b[0m                                    missing=self.missing, nthread=self.n_jobs)\n\u001b[0;32m    359\u001b[0m         \u001b[1;32melse\u001b[0m\u001b[1;33m:\u001b[0m\u001b[1;33m\u001b[0m\u001b[1;33m\u001b[0m\u001b[0m\n\u001b[1;32m--> 360\u001b[1;33m             \u001b[0mtrainDmatrix\u001b[0m \u001b[1;33m=\u001b[0m \u001b[0mDMatrix\u001b[0m\u001b[1;33m(\u001b[0m\u001b[0mX\u001b[0m\u001b[1;33m,\u001b[0m \u001b[0mlabel\u001b[0m\u001b[1;33m=\u001b[0m\u001b[0my\u001b[0m\u001b[1;33m,\u001b[0m \u001b[0mmissing\u001b[0m\u001b[1;33m=\u001b[0m\u001b[0mself\u001b[0m\u001b[1;33m.\u001b[0m\u001b[0mmissing\u001b[0m\u001b[1;33m,\u001b[0m \u001b[0mnthread\u001b[0m\u001b[1;33m=\u001b[0m\u001b[0mself\u001b[0m\u001b[1;33m.\u001b[0m\u001b[0mn_jobs\u001b[0m\u001b[1;33m)\u001b[0m\u001b[1;33m\u001b[0m\u001b[1;33m\u001b[0m\u001b[0m\n\u001b[0m\u001b[0;32m    361\u001b[0m \u001b[1;33m\u001b[0m\u001b[0m\n\u001b[0;32m    362\u001b[0m         \u001b[0mevals_result\u001b[0m \u001b[1;33m=\u001b[0m \u001b[1;33m{\u001b[0m\u001b[1;33m}\u001b[0m\u001b[1;33m\u001b[0m\u001b[1;33m\u001b[0m\u001b[0m\n",
      "\u001b[1;32m~\\anaconda3\\lib\\site-packages\\xgboost\\core.py\u001b[0m in \u001b[0;36m__init__\u001b[1;34m(self, data, label, missing, weight, silent, feature_names, feature_types, nthread)\u001b[0m\n\u001b[0;32m    378\u001b[0m         data, feature_names, feature_types = _maybe_pandas_data(data,\n\u001b[0;32m    379\u001b[0m                                                                 \u001b[0mfeature_names\u001b[0m\u001b[1;33m,\u001b[0m\u001b[1;33m\u001b[0m\u001b[1;33m\u001b[0m\u001b[0m\n\u001b[1;32m--> 380\u001b[1;33m                                                                 feature_types)\n\u001b[0m\u001b[0;32m    381\u001b[0m \u001b[1;33m\u001b[0m\u001b[0m\n\u001b[0;32m    382\u001b[0m         data, feature_names, feature_types = _maybe_dt_data(data,\n",
      "\u001b[1;32m~\\anaconda3\\lib\\site-packages\\xgboost\\core.py\u001b[0m in \u001b[0;36m_maybe_pandas_data\u001b[1;34m(data, feature_names, feature_types)\u001b[0m\n\u001b[0;32m    237\u001b[0m         msg = \"\"\"DataFrame.dtypes for data must be int, float or bool.\n\u001b[0;32m    238\u001b[0m                 Did not expect the data types in fields \"\"\"\n\u001b[1;32m--> 239\u001b[1;33m         \u001b[1;32mraise\u001b[0m \u001b[0mValueError\u001b[0m\u001b[1;33m(\u001b[0m\u001b[0mmsg\u001b[0m \u001b[1;33m+\u001b[0m \u001b[1;34m', '\u001b[0m\u001b[1;33m.\u001b[0m\u001b[0mjoin\u001b[0m\u001b[1;33m(\u001b[0m\u001b[0mbad_fields\u001b[0m\u001b[1;33m)\u001b[0m\u001b[1;33m)\u001b[0m\u001b[1;33m\u001b[0m\u001b[1;33m\u001b[0m\u001b[0m\n\u001b[0m\u001b[0;32m    240\u001b[0m \u001b[1;33m\u001b[0m\u001b[0m\n\u001b[0;32m    241\u001b[0m     \u001b[1;32mif\u001b[0m \u001b[0mfeature_names\u001b[0m \u001b[1;32mis\u001b[0m \u001b[1;32mNone\u001b[0m\u001b[1;33m:\u001b[0m\u001b[1;33m\u001b[0m\u001b[1;33m\u001b[0m\u001b[0m\n",
      "\u001b[1;31mValueError\u001b[0m: DataFrame.dtypes for data must be int, float or bool.\n                Did not expect the data types in fields Model_Info, Additional_Description"
     ]
    }
   ],
   "source": [
    "def get_stacking():\n",
    "    # define the base models\n",
    "    level0 = list()\n",
    "    level0.append(('clf', XGBRegressor(n_estimators=468)))\n",
    "    level0.append(('lgb', LGBMRegressor(n_estimators=107)))\n",
    "    level0.append(('rf', RandomForestRegressor(n_estimators=50)))\n",
    "    # define meta learner model\n",
    "    level1 = LinearRegression()\n",
    "    # define the stacking ensemble\n",
    "    model = StackingRegressor(estimators=level0, final_estimator=level1)\n",
    "    return model\n",
    "\n",
    "models=get_stacking()\n",
    "models.fit(final_train, target)#the fit is called on all the data....\n",
    "model_pred = models.predict(final_test)\n",
    "print(models.score(X_train, y_train))\n",
    "print(models.score(X_valid, y_valid))\n",
    "print(models.score(final_train, target))\n"
   ]
  },
  {
   "cell_type": "code",
   "execution_count": null,
   "metadata": {},
   "outputs": [],
   "source": []
  }
 ],
 "metadata": {
  "kernelspec": {
   "display_name": "Python 3",
   "language": "python",
   "name": "python3"
  },
  "language_info": {
   "codemirror_mode": {
    "name": "ipython",
    "version": 3
   },
   "file_extension": ".py",
   "mimetype": "text/x-python",
   "name": "python",
   "nbconvert_exporter": "python",
   "pygments_lexer": "ipython3",
   "version": "3.7.6"
  }
 },
 "nbformat": 4,
 "nbformat_minor": 4
}
